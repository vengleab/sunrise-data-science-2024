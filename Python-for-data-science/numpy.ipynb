{
 "cells": [
  {
   "cell_type": "code",
   "execution_count": 1,
   "id": "877f0145-3aee-4f04-b781-9d9980095402",
   "metadata": {
    "tags": []
   },
   "outputs": [],
   "source": [
    "import numpy as np"
   ]
  },
  {
   "cell_type": "code",
   "execution_count": 2,
   "id": "33c0a29f-2397-4aab-8993-90815f061299",
   "metadata": {
    "tags": []
   },
   "outputs": [
    {
     "data": {
      "text/plain": [
       "array([1, 2, 3])"
      ]
     },
     "execution_count": 2,
     "metadata": {},
     "output_type": "execute_result"
    }
   ],
   "source": [
    "lst = [1,2,3]\n",
    "np.array(lst)"
   ]
  },
  {
   "cell_type": "code",
   "execution_count": 22,
   "id": "04528f45-cf9e-497a-9c47-844e84b3a8ce",
   "metadata": {
    "tags": []
   },
   "outputs": [
    {
     "data": {
      "text/plain": [
       "array([10, 11, 12, 13, 14, 15, 16, 17, 18, 19, 20, 21, 22, 23, 24, 25, 26,\n",
       "       27, 28, 29, 30, 31, 32, 33, 34, 35, 36, 37, 38, 39, 40, 41, 42, 43,\n",
       "       44, 45, 46, 47, 48, 49, 50, 51, 52, 53, 54, 55, 56, 57, 58, 59, 60,\n",
       "       61, 62, 63, 64, 65, 66, 67, 68, 69, 70, 71, 72, 73, 74, 75, 76, 77,\n",
       "       78, 79, 80, 81, 82, 83, 84, 85, 86, 87, 88, 89, 90, 91, 92, 93, 94,\n",
       "       95, 96, 97, 98, 99])"
      ]
     },
     "execution_count": 22,
     "metadata": {},
     "output_type": "execute_result"
    }
   ],
   "source": [
    "my_list = np.arange(10, 100, 1)\n",
    "my_list"
   ]
  },
  {
   "cell_type": "code",
   "execution_count": 23,
   "id": "1458c695-fb33-413d-bbf5-ae1166622657",
   "metadata": {
    "tags": []
   },
   "outputs": [
    {
     "data": {
      "text/plain": [
       "(90,)"
      ]
     },
     "execution_count": 23,
     "metadata": {},
     "output_type": "execute_result"
    }
   ],
   "source": [
    "my_list.shape"
   ]
  },
  {
   "cell_type": "code",
   "execution_count": 24,
   "id": "e8c32e8d-a9e8-4db9-9337-2fae54bda08e",
   "metadata": {
    "tags": []
   },
   "outputs": [
    {
     "data": {
      "text/plain": [
       "dtype('int32')"
      ]
     },
     "execution_count": 24,
     "metadata": {},
     "output_type": "execute_result"
    }
   ],
   "source": [
    "my_list.dtype"
   ]
  },
  {
   "cell_type": "code",
   "execution_count": 29,
   "id": "a899cd63-3c0e-4ba6-80c3-1f153441a0ce",
   "metadata": {
    "tags": []
   },
   "outputs": [
    {
     "data": {
      "text/plain": [
       "array([[10, 11, 12, 13, 14, 15, 16, 17, 18, 19, 20, 21, 22, 23, 24, 25,\n",
       "        26, 27, 28, 29, 30, 31, 32, 33, 34, 35, 36, 37, 38, 39],\n",
       "       [40, 41, 42, 43, 44, 45, 46, 47, 48, 49, 50, 51, 52, 53, 54, 55,\n",
       "        56, 57, 58, 59, 60, 61, 62, 63, 64, 65, 66, 67, 68, 69],\n",
       "       [70, 71, 72, 73, 74, 75, 76, 77, 78, 79, 80, 81, 82, 83, 84, 85,\n",
       "        86, 87, 88, 89, 90, 91, 92, 93, 94, 95, 96, 97, 98, 99]])"
      ]
     },
     "execution_count": 29,
     "metadata": {},
     "output_type": "execute_result"
    }
   ],
   "source": [
    "my_list.reshape(3, 30) # 90 = 30 * 3 or 45* 2 or 9 * 10"
   ]
  },
  {
   "cell_type": "code",
   "execution_count": 17,
   "id": "3aa83c4b-a9ca-4046-abd9-e620c4141eae",
   "metadata": {
    "tags": []
   },
   "outputs": [
    {
     "data": {
      "text/plain": [
       "array([[0., 0., 0., 0., 0., 0., 0., 0., 0., 0.],\n",
       "       [0., 0., 0., 0., 0., 0., 0., 0., 0., 0.],\n",
       "       [0., 0., 0., 0., 0., 0., 0., 0., 0., 0.]])"
      ]
     },
     "execution_count": 17,
     "metadata": {},
     "output_type": "execute_result"
    }
   ],
   "source": [
    "shape = (3, 10)\n",
    "lst = np.zeros(shape)\n",
    "lst"
   ]
  },
  {
   "cell_type": "code",
   "execution_count": 18,
   "id": "0a215d25-b184-49e5-8fa8-92fcc24e0334",
   "metadata": {
    "tags": []
   },
   "outputs": [
    {
     "data": {
      "text/plain": [
       "(3, 10)"
      ]
     },
     "execution_count": 18,
     "metadata": {},
     "output_type": "execute_result"
    }
   ],
   "source": [
    "lst.shape"
   ]
  },
  {
   "cell_type": "code",
   "execution_count": 14,
   "id": "8d80263e-0f15-45cd-8d70-123ea319c00e",
   "metadata": {
    "tags": []
   },
   "outputs": [
    {
     "data": {
      "text/plain": [
       "array([0., 0., 0., 0., 0., 0., 0., 0., 0., 0., 0., 0., 0., 0., 0., 0., 0.,\n",
       "       0., 0., 0., 0., 0., 0., 0., 0., 0., 0., 0., 0., 0., 0., 0., 0., 0.,\n",
       "       0., 0., 0., 0., 0., 0., 0., 0., 0., 0., 0., 0., 0., 0., 0., 0., 0.,\n",
       "       0., 0., 0., 0., 0., 0., 0., 0., 0., 0., 0., 0., 0., 0., 0., 0., 0.,\n",
       "       0., 0., 0., 0., 0., 0., 0., 0., 0., 0., 0., 0., 0., 0., 0., 0., 0.,\n",
       "       0., 0., 0., 0., 0., 0., 0., 0., 0., 0., 0., 0., 0., 0., 0.])"
      ]
     },
     "execution_count": 14,
     "metadata": {},
     "output_type": "execute_result"
    }
   ],
   "source": [
    "np.zeros(100)"
   ]
  },
  {
   "cell_type": "code",
   "execution_count": 8,
   "id": "df61e6ff-8e10-4b5d-aad2-c1883002442c",
   "metadata": {
    "tags": []
   },
   "outputs": [
    {
     "data": {
      "text/plain": [
       "array([[1., 1., 1., 1.],\n",
       "       [1., 1., 1., 1.]])"
      ]
     },
     "execution_count": 8,
     "metadata": {},
     "output_type": "execute_result"
    }
   ],
   "source": [
    "np.ones((2,4))"
   ]
  },
  {
   "cell_type": "code",
   "execution_count": 10,
   "id": "e3a8d7ba-4fce-4d74-920c-f07987598f54",
   "metadata": {
    "tags": []
   },
   "outputs": [
    {
     "data": {
      "text/plain": [
       "array([[4., 4., 4., 4.],\n",
       "       [4., 4., 4., 4.]])"
      ]
     },
     "execution_count": 10,
     "metadata": {},
     "output_type": "execute_result"
    }
   ],
   "source": [
    "np.ones((2,4)) * 4"
   ]
  },
  {
   "cell_type": "code",
   "execution_count": 21,
   "id": "17614c47-b3cb-46bb-b188-cf1883446f31",
   "metadata": {
    "tags": []
   },
   "outputs": [
    {
     "data": {
      "text/plain": [
       "array([[1, 2, 3],\n",
       "       [1, 5, 5]])"
      ]
     },
     "execution_count": 21,
     "metadata": {},
     "output_type": "execute_result"
    }
   ],
   "source": [
    "arr = [\n",
    "    [1,2, 3 ],\n",
    "    [1,5, 5 ]\n",
    "]\n",
    "np.array(arr)"
   ]
  },
  {
   "cell_type": "markdown",
   "id": "cbbfb5cd-57dc-4332-9383-613352e8d038",
   "metadata": {},
   "source": [
    "## Operation"
   ]
  },
  {
   "cell_type": "code",
   "execution_count": 31,
   "id": "b8fe2676-eb93-43a4-a2ca-00db2bc74e47",
   "metadata": {
    "tags": []
   },
   "outputs": [
    {
     "data": {
      "text/plain": [
       "array([1., 1., 1., 1., 1., 1., 1., 1., 1., 1.])"
      ]
     },
     "execution_count": 31,
     "metadata": {},
     "output_type": "execute_result"
    }
   ],
   "source": [
    "ones = np.ones(10)\n",
    "ones\n"
   ]
  },
  {
   "cell_type": "code",
   "execution_count": 34,
   "id": "4ab256ea-64f7-4b63-8761-5d8c8aa6a95f",
   "metadata": {
    "tags": []
   },
   "outputs": [
    {
     "data": {
      "text/plain": [
       "array([11., 11., 11., 11., 11., 11., 11., 11., 11., 11.])"
      ]
     },
     "execution_count": 34,
     "metadata": {},
     "output_type": "execute_result"
    }
   ],
   "source": [
    "ones + 10"
   ]
  },
  {
   "cell_type": "code",
   "execution_count": 37,
   "id": "3c1617cc-9181-4f97-ada1-ebb8cfd5f517",
   "metadata": {
    "tags": []
   },
   "outputs": [
    {
     "data": {
      "text/plain": [
       "array([1., 1., 1., 1., 1., 1., 1., 1., 1., 1.])"
      ]
     },
     "execution_count": 37,
     "metadata": {},
     "output_type": "execute_result"
    }
   ],
   "source": [
    "ones"
   ]
  },
  {
   "cell_type": "code",
   "execution_count": 38,
   "id": "9d588902-483d-4c45-b874-6ce43c3b7e7f",
   "metadata": {
    "tags": []
   },
   "outputs": [
    {
     "data": {
      "text/plain": [
       "dtype('float64')"
      ]
     },
     "execution_count": 38,
     "metadata": {},
     "output_type": "execute_result"
    }
   ],
   "source": [
    "ones.dtype"
   ]
  },
  {
   "cell_type": "code",
   "execution_count": 39,
   "id": "0254d090-a133-448e-8347-4c1308c97383",
   "metadata": {
    "tags": []
   },
   "outputs": [
    {
     "data": {
      "text/plain": [
       "array([1, 1, 1, 1, 1, 1, 1, 1, 1, 1])"
      ]
     },
     "execution_count": 39,
     "metadata": {},
     "output_type": "execute_result"
    }
   ],
   "source": [
    "ones.astype('int')"
   ]
  },
  {
   "cell_type": "code",
   "execution_count": 44,
   "id": "fd45adcb-1194-4644-ad49-b076cf70096f",
   "metadata": {
    "tags": []
   },
   "outputs": [
    {
     "data": {
      "text/plain": [
       "array(['1.0', '1.0', '1.0', '1.0', '1.0', '1.0', '1.0', '1.0', '1.0',\n",
       "       '1.0'], dtype='<U32')"
      ]
     },
     "execution_count": 44,
     "metadata": {},
     "output_type": "execute_result"
    }
   ],
   "source": [
    "str_one = ones.astype(str)\n",
    "str_one"
   ]
  },
  {
   "cell_type": "code",
   "execution_count": 46,
   "id": "e60c3482-97b0-4350-8571-d7cf94209518",
   "metadata": {
    "tags": []
   },
   "outputs": [
    {
     "data": {
      "text/plain": [
       "array(['1.0Hello', '1.0Hello', '1.0Hello', '1.0Hello', '1.0Hello',\n",
       "       '1.0Hello', '1.0Hello', '1.0Hello', '1.0Hello', '1.0Hello'],\n",
       "      dtype='<U37')"
      ]
     },
     "execution_count": 46,
     "metadata": {},
     "output_type": "execute_result"
    }
   ],
   "source": [
    "np.char.add(str_one, \"Hello\")"
   ]
  },
  {
   "cell_type": "markdown",
   "id": "81967bb6-7bb6-44b8-94e0-ed84cd79cf56",
   "metadata": {},
   "source": [
    "## Indexing and Slicing"
   ]
  },
  {
   "cell_type": "code",
   "execution_count": 51,
   "id": "f190c0ce-0fe7-4f1b-a414-cd5d862ed94b",
   "metadata": {
    "tags": []
   },
   "outputs": [
    {
     "data": {
      "text/plain": [
       "array([10, 11, 12, 13, 14, 15, 16, 17, 18, 19, 20, 21, 22, 23, 24, 25, 26,\n",
       "       27, 28, 29, 30, 31, 32, 33, 34, 35, 36, 37, 38, 39, 40, 41, 42, 43,\n",
       "       44, 45, 46, 47, 48, 49, 50, 51, 52, 53, 54, 55, 56, 57, 58, 59, 60,\n",
       "       61, 62, 63, 64, 65, 66, 67, 68, 69, 70, 71, 72, 73, 74, 75, 76, 77,\n",
       "       78, 79, 80, 81, 82, 83, 84, 85, 86, 87, 88, 89, 90, 91, 92, 93, 94,\n",
       "       95, 96, 97, 98, 99])"
      ]
     },
     "execution_count": 51,
     "metadata": {},
     "output_type": "execute_result"
    }
   ],
   "source": [
    "arr = np.arange(10, 100, 1)\n",
    "arr"
   ]
  },
  {
   "cell_type": "code",
   "execution_count": 52,
   "id": "63d982ad-b609-4e96-a2f7-1baef8cdd528",
   "metadata": {
    "tags": []
   },
   "outputs": [
    {
     "data": {
      "text/plain": [
       "10"
      ]
     },
     "execution_count": 52,
     "metadata": {},
     "output_type": "execute_result"
    }
   ],
   "source": [
    "arr[0]"
   ]
  },
  {
   "cell_type": "code",
   "execution_count": 53,
   "id": "814c031b-2ce6-48f3-97da-90ff6a95e979",
   "metadata": {
    "tags": []
   },
   "outputs": [
    {
     "data": {
      "text/plain": [
       "array([20, 21, 22, 23, 24, 25, 26, 27, 28, 29])"
      ]
     },
     "execution_count": 53,
     "metadata": {},
     "output_type": "execute_result"
    }
   ],
   "source": [
    "arr[10: 20] # exlude 20th "
   ]
  },
  {
   "cell_type": "code",
   "execution_count": 60,
   "id": "c35d1a04-923d-491f-8b62-665417d9c08d",
   "metadata": {
    "tags": []
   },
   "outputs": [
    {
     "data": {
      "text/plain": [
       "99"
      ]
     },
     "execution_count": 60,
     "metadata": {},
     "output_type": "execute_result"
    }
   ],
   "source": [
    "arr[89]"
   ]
  },
  {
   "cell_type": "code",
   "execution_count": 62,
   "id": "8349a8b6-2a18-4752-8c31-bbc2d9c8b7df",
   "metadata": {
    "tags": []
   },
   "outputs": [
    {
     "data": {
      "text/plain": [
       "array([10, 12, 14, 16, 18])"
      ]
     },
     "execution_count": 62,
     "metadata": {},
     "output_type": "execute_result"
    }
   ],
   "source": [
    "arr[0: 10: 2]"
   ]
  },
  {
   "cell_type": "code",
   "execution_count": 67,
   "id": "69cb2f66-6ebb-4207-bdc3-e0ba7db8a5c3",
   "metadata": {
    "tags": []
   },
   "outputs": [
    {
     "data": {
      "text/plain": [
       "array([[ 0,  1,  2,  3,  4,  5,  6,  7,  8,  9],\n",
       "       [10, 11, 12, 13, 14, 15, 16, 17, 18, 19],\n",
       "       [20, 21, 22, 23, 24, 25, 26, 27, 28, 29],\n",
       "       [30, 31, 32, 33, 34, 35, 36, 37, 38, 39],\n",
       "       [40, 41, 42, 43, 44, 45, 46, 47, 48, 49],\n",
       "       [50, 51, 52, 53, 54, 55, 56, 57, 58, 59],\n",
       "       [60, 61, 62, 63, 64, 65, 66, 67, 68, 69],\n",
       "       [70, 71, 72, 73, 74, 75, 76, 77, 78, 79],\n",
       "       [80, 81, 82, 83, 84, 85, 86, 87, 88, 89],\n",
       "       [90, 91, 92, 93, 94, 95, 96, 97, 98, 99]])"
      ]
     },
     "execution_count": 67,
     "metadata": {},
     "output_type": "execute_result"
    }
   ],
   "source": [
    "two_d_arr = np.arange(0, 100, 1).reshape(10, 10)\n",
    "two_d_arr"
   ]
  },
  {
   "cell_type": "code",
   "execution_count": 68,
   "id": "c72a7199-058b-45e1-a8ba-78a17cc874e2",
   "metadata": {
    "tags": []
   },
   "outputs": [
    {
     "data": {
      "text/plain": [
       "array([0, 1, 2, 3, 4, 5, 6, 7, 8, 9])"
      ]
     },
     "execution_count": 68,
     "metadata": {},
     "output_type": "execute_result"
    }
   ],
   "source": [
    "two_d_arr[0]"
   ]
  },
  {
   "cell_type": "code",
   "execution_count": 69,
   "id": "176b489d-47e8-4c18-9e89-f1ae8819014a",
   "metadata": {
    "tags": []
   },
   "outputs": [
    {
     "data": {
      "text/plain": [
       "array([10, 11, 12, 13, 14, 15, 16, 17, 18, 19])"
      ]
     },
     "execution_count": 69,
     "metadata": {},
     "output_type": "execute_result"
    }
   ],
   "source": [
    "two_d_arr[1]"
   ]
  },
  {
   "cell_type": "code",
   "execution_count": 74,
   "id": "34d8ed17-4c8c-4fa0-b037-36608cd56546",
   "metadata": {
    "tags": []
   },
   "outputs": [
    {
     "data": {
      "text/plain": [
       "array([ 0, 10, 20, 30, 40, 50, 60, 70, 80, 90])"
      ]
     },
     "execution_count": 74,
     "metadata": {},
     "output_type": "execute_result"
    }
   ],
   "source": [
    "two_d_arr[:, 0]"
   ]
  },
  {
   "cell_type": "code",
   "execution_count": 76,
   "id": "da5d2fbc-fba7-4bdc-9383-095fcbf363fe",
   "metadata": {
    "tags": []
   },
   "outputs": [
    {
     "data": {
      "text/plain": [
       "array([[10, 11, 12, 13, 14, 15, 16, 17, 18, 19],\n",
       "       [20, 21, 22, 23, 24, 25, 26, 27, 28, 29],\n",
       "       [30, 31, 32, 33, 34, 35, 36, 37, 38, 39],\n",
       "       [40, 41, 42, 43, 44, 45, 46, 47, 48, 49]])"
      ]
     },
     "execution_count": 76,
     "metadata": {},
     "output_type": "execute_result"
    }
   ],
   "source": [
    "two_d_arr[1:5]"
   ]
  },
  {
   "cell_type": "code",
   "execution_count": 81,
   "id": "c2d8e82b-1b21-4e06-ad25-53818dac2d59",
   "metadata": {
    "tags": []
   },
   "outputs": [
    {
     "data": {
      "text/plain": [
       "array([[ 0,  1],\n",
       "       [10, 11],\n",
       "       [20, 21],\n",
       "       [30, 31],\n",
       "       [40, 41],\n",
       "       [50, 51],\n",
       "       [60, 61],\n",
       "       [70, 71],\n",
       "       [80, 81],\n",
       "       [90, 91]])"
      ]
     },
     "execution_count": 81,
     "metadata": {},
     "output_type": "execute_result"
    }
   ],
   "source": [
    "two_d_arr[0:10, 0:2]"
   ]
  },
  {
   "cell_type": "code",
   "execution_count": 84,
   "id": "bcd7b94f-831e-4b21-bfab-fe8b56f30870",
   "metadata": {
    "tags": []
   },
   "outputs": [
    {
     "data": {
      "text/plain": [
       "array([[ 0,  2,  4,  6,  8],\n",
       "       [10, 12, 14, 16, 18],\n",
       "       [20, 22, 24, 26, 28],\n",
       "       [30, 32, 34, 36, 38],\n",
       "       [40, 42, 44, 46, 48],\n",
       "       [50, 52, 54, 56, 58],\n",
       "       [60, 62, 64, 66, 68],\n",
       "       [70, 72, 74, 76, 78],\n",
       "       [80, 82, 84, 86, 88],\n",
       "       [90, 92, 94, 96, 98]])"
      ]
     },
     "execution_count": 84,
     "metadata": {},
     "output_type": "execute_result"
    }
   ],
   "source": [
    "two_d_arr[:, ::2]"
   ]
  },
  {
   "cell_type": "markdown",
   "id": "dd63cdf0-05a9-4ad4-8a0c-6e254826bb1a",
   "metadata": {},
   "source": [
    "## filter and reassign "
   ]
  },
  {
   "cell_type": "code",
   "execution_count": 90,
   "id": "7428820d-8e96-476f-9e8e-8f76ed71f322",
   "metadata": {
    "tags": []
   },
   "outputs": [
    {
     "data": {
      "text/plain": [
       "array([[ 0,  1,  2,  3,  4,  5,  6,  7,  8,  9],\n",
       "       [10, 11, 12, 13, 14, 15, 16, 17, 18, 19],\n",
       "       [20, 21, 22, 23, 24, 25, 26, 27, 28, 29],\n",
       "       [30, 31, 32, 33, 34, 35, 36, 37, 38, 39],\n",
       "       [40, 41, 42, 43, 44, 45, 46, 47, 48, 49],\n",
       "       [50, 51, 52, 53, 54, 55, 56, 57, 58, 59],\n",
       "       [60, 61, 62, 63, 64, 65, 66, 67, 68, 69],\n",
       "       [70, 71, 72, 73, 74, 75, 76, 77, 78, 79],\n",
       "       [80, 81, 82, 83, 84, 85, 86, 87, 88, 89],\n",
       "       [90, 91, 92, 93, 94, 95, 96, 97, 98, 99]])"
      ]
     },
     "execution_count": 90,
     "metadata": {},
     "output_type": "execute_result"
    }
   ],
   "source": [
    "two_d_arr = np.arange(0, 100, 1).reshape(10, 10)\n",
    "two_d_arr"
   ]
  },
  {
   "cell_type": "code",
   "execution_count": 87,
   "id": "3c442809-473d-4f93-b68a-cafebc5a6dbb",
   "metadata": {
    "tags": []
   },
   "outputs": [
    {
     "data": {
      "text/plain": [
       "array([[False, False, False, False, False, False, False, False, False,\n",
       "        False],\n",
       "       [False, False, False, False, False, False, False, False, False,\n",
       "        False],\n",
       "       [False, False, False, False, False, False, False, False, False,\n",
       "        False],\n",
       "       [False, False, False, False, False, False, False, False, False,\n",
       "        False],\n",
       "       [False, False, False, False, False, False, False, False, False,\n",
       "        False],\n",
       "       [False,  True,  True,  True,  True,  True,  True,  True,  True,\n",
       "         True],\n",
       "       [ True,  True,  True,  True,  True,  True,  True,  True,  True,\n",
       "         True],\n",
       "       [ True,  True,  True,  True,  True,  True,  True,  True,  True,\n",
       "         True],\n",
       "       [ True,  True,  True,  True,  True,  True,  True,  True,  True,\n",
       "         True],\n",
       "       [ True,  True,  True,  True,  True,  True,  True,  True,  True,\n",
       "         True]])"
      ]
     },
     "execution_count": 87,
     "metadata": {},
     "output_type": "execute_result"
    }
   ],
   "source": [
    "two_d_arr> 50"
   ]
  },
  {
   "cell_type": "code",
   "execution_count": 91,
   "id": "35f6c7a3-9ca6-4ead-8a2f-0c71c5d3de79",
   "metadata": {
    "tags": []
   },
   "outputs": [
    {
     "data": {
      "text/plain": [
       "array([51, 52, 53, 54, 55, 56, 57, 58, 59, 60, 61, 62, 63, 64, 65, 66, 67,\n",
       "       68, 69, 70, 71, 72, 73, 74, 75, 76, 77, 78, 79, 80, 81, 82, 83, 84,\n",
       "       85, 86, 87, 88, 89, 90, 91, 92, 93, 94, 95, 96, 97, 98, 99])"
      ]
     },
     "execution_count": 91,
     "metadata": {},
     "output_type": "execute_result"
    }
   ],
   "source": [
    "two_d_arr[two_d_arr> 50]"
   ]
  },
  {
   "cell_type": "code",
   "execution_count": 92,
   "id": "ed051d03-392a-4e74-a811-9a2d490188a2",
   "metadata": {
    "tags": []
   },
   "outputs": [],
   "source": [
    "new_arr = two_d_arr.copy()"
   ]
  },
  {
   "cell_type": "code",
   "execution_count": 93,
   "id": "a15d619c-372d-41b3-9201-97fb60f6527b",
   "metadata": {
    "tags": []
   },
   "outputs": [
    {
     "data": {
      "text/plain": [
       "array([[  0,   1,   2,   3,   4,   5,   6,   7,   8,   9],\n",
       "       [ 10,  11,  12,  13,  14,  15,  16,  17,  18,  19],\n",
       "       [ 20,  21,  22,  23,  24,  25,  26,  27,  28,  29],\n",
       "       [ 30,  31,  32,  33,  34,  35,  36,  37,  38,  39],\n",
       "       [ 40,  41,  42,  43,  44,  45,  46,  47,  48,  49],\n",
       "       [ 50, 500, 500, 500, 500, 500, 500, 500, 500, 500],\n",
       "       [500, 500, 500, 500, 500, 500, 500, 500, 500, 500],\n",
       "       [500, 500, 500, 500, 500, 500, 500, 500, 500, 500],\n",
       "       [500, 500, 500, 500, 500, 500, 500, 500, 500, 500],\n",
       "       [500, 500, 500, 500, 500, 500, 500, 500, 500, 500]])"
      ]
     },
     "execution_count": 93,
     "metadata": {},
     "output_type": "execute_result"
    }
   ],
   "source": [
    "new_arr[two_d_arr> 50] = 500\n",
    "new_arr"
   ]
  },
  {
   "cell_type": "code",
   "execution_count": 94,
   "id": "008f2d89-bced-4931-86fb-ced1f82864fe",
   "metadata": {
    "tags": []
   },
   "outputs": [
    {
     "data": {
      "text/plain": [
       "array([[ 0,  1,  2,  3,  4,  5,  6,  7,  8,  9],\n",
       "       [10, 11, 12, 13, 14, 15, 16, 17, 18, 19],\n",
       "       [20, 21, 22, 23, 24, 25, 26, 27, 28, 29],\n",
       "       [30, 31, 32, 33, 34, 35, 36, 37, 38, 39],\n",
       "       [40, 41, 42, 43, 44, 45, 46, 47, 48, 49],\n",
       "       [50, 51, 52, 53, 54, 55, 56, 57, 58, 59],\n",
       "       [60, 61, 62, 63, 64, 65, 66, 67, 68, 69],\n",
       "       [70, 71, 72, 73, 74, 75, 76, 77, 78, 79],\n",
       "       [80, 81, 82, 83, 84, 85, 86, 87, 88, 89],\n",
       "       [90, 91, 92, 93, 94, 95, 96, 97, 98, 99]])"
      ]
     },
     "execution_count": 94,
     "metadata": {},
     "output_type": "execute_result"
    }
   ],
   "source": [
    "two_d_arr"
   ]
  },
  {
   "cell_type": "markdown",
   "id": "7e61fe6d-35b4-4051-bae5-75f21c9e266f",
   "metadata": {},
   "source": [
    "## Iteration"
   ]
  },
  {
   "cell_type": "code",
   "execution_count": 104,
   "id": "712cfae2-8e24-442b-b17a-f998c8d9805c",
   "metadata": {
    "tags": []
   },
   "outputs": [
    {
     "data": {
      "text/plain": [
       "array([[ 0,  1,  2,  3],\n",
       "       [ 4,  5,  6,  7],\n",
       "       [ 8,  9, 10, 11],\n",
       "       [12, 13, 14, 15]])"
      ]
     },
     "execution_count": 104,
     "metadata": {},
     "output_type": "execute_result"
    }
   ],
   "source": [
    "two_d_arr = np.arange(0, 16, 1).reshape(4, 4)\n",
    "two_d_arr"
   ]
  },
  {
   "cell_type": "code",
   "execution_count": 105,
   "id": "78f29b37-67cb-4ebb-abcd-5d099c0e6a9a",
   "metadata": {
    "tags": []
   },
   "outputs": [
    {
     "name": "stdout",
     "output_type": "stream",
     "text": [
      "Row => [0 1 2 3]\n",
      "Row => [4 5 6 7]\n",
      "Row => [ 8  9 10 11]\n",
      "Row => [12 13 14 15]\n"
     ]
    }
   ],
   "source": [
    "for r in two_d_arr:\n",
    "    print(f\"Row => {r}\")"
   ]
  },
  {
   "cell_type": "code",
   "execution_count": 106,
   "id": "697f1454-c436-4ae5-b569-14cb7829a3b8",
   "metadata": {
    "tags": []
   },
   "outputs": [
    {
     "name": "stdout",
     "output_type": "stream",
     "text": [
      "Cell => 0\n",
      "Cell => 1\n",
      "Cell => 2\n",
      "Cell => 3\n",
      "Cell => 4\n",
      "Cell => 5\n",
      "Cell => 6\n",
      "Cell => 7\n",
      "Cell => 8\n",
      "Cell => 9\n",
      "Cell => 10\n",
      "Cell => 11\n",
      "Cell => 12\n",
      "Cell => 13\n",
      "Cell => 14\n",
      "Cell => 15\n"
     ]
    }
   ],
   "source": [
    "for r in two_d_arr:\n",
    "    for c in r:\n",
    "        print(f\"Cell => {c}\")"
   ]
  },
  {
   "cell_type": "code",
   "execution_count": 109,
   "id": "57e5fe4f-af05-4634-adc0-21ab93e30b0b",
   "metadata": {
    "tags": []
   },
   "outputs": [
    {
     "name": "stdout",
     "output_type": "stream",
     "text": [
      "Row => [ 0  4  8 12]\n",
      "Row => [ 1  5  9 13]\n",
      "Row => [ 2  6 10 14]\n",
      "Row => [ 3  7 11 15]\n"
     ]
    }
   ],
   "source": [
    "for r in two_d_arr.T:\n",
    "    print(f\"Row => {r}\")"
   ]
  },
  {
   "cell_type": "markdown",
   "id": "5a0b8517-95cb-4fcf-9de8-294d95d42c7a",
   "metadata": {},
   "source": [
    "### Enumerate\n",
    "\n",
    "To get the index/step in loop\n"
   ]
  },
  {
   "cell_type": "code",
   "execution_count": 114,
   "id": "7d19686c-1e06-4e75-846c-0df22fa9a003",
   "metadata": {
    "tags": []
   },
   "outputs": [
    {
     "name": "stdout",
     "output_type": "stream",
     "text": [
      "Row => [0 1 2 3]\n",
      "Row => [4 5 6 7]\n",
      "Row index 2 => [ 8  9 10 11]\n",
      "Row => [12 13 14 15]\n"
     ]
    }
   ],
   "source": [
    "for ind, r in enumerate(two_d_arr):\n",
    "    if ind != 2:\n",
    "        print(f\"Row => {r}\")\n",
    "    else:\n",
    "        print(f\"Row index 2 => {r}\")"
   ]
  },
  {
   "cell_type": "markdown",
   "id": "8c9b8c1f-6b82-4bbe-bbc3-8882b85936bf",
   "metadata": {},
   "source": [
    "## Unpack"
   ]
  },
  {
   "cell_type": "code",
   "execution_count": 115,
   "id": "22ac679c-db96-43dc-96e1-277e6fbda0e6",
   "metadata": {
    "tags": []
   },
   "outputs": [
    {
     "name": "stdout",
     "output_type": "stream",
     "text": [
      "Row => [0 1 2 3]\n",
      "Row => [4 5 6 7]\n",
      "Row => [ 8  9 10 11]\n",
      "Row => [12 13 14 15]\n"
     ]
    }
   ],
   "source": [
    "for r in two_d_arr:\n",
    "    print(f\"Row => {r}\")"
   ]
  },
  {
   "cell_type": "code",
   "execution_count": 119,
   "id": "eb669b05-fe7c-4802-ab48-13dea863fb52",
   "metadata": {
    "tags": []
   },
   "outputs": [
    {
     "name": "stdout",
     "output_type": "stream",
     "text": [
      "c1 =====>0, c2 ======> 1, c3 =====>2, c4 ======> 3\n",
      "c1 =====>4, c2 ======> 5, c3 =====>6, c4 ======> 7\n",
      "c1 =====>8, c2 ======> 9, c3 =====>10, c4 ======> 11\n",
      "c1 =====>12, c2 ======> 13, c3 =====>14, c4 ======> 15\n"
     ]
    }
   ],
   "source": [
    "for r in two_d_arr:\n",
    "    print(f\"c1 =====>{r[0]}, c2 ======> {r[1]}, c3 =====>{r[2]}, c4 ======> {r[3]}\")"
   ]
  },
  {
   "cell_type": "code",
   "execution_count": 118,
   "id": "61efc939-207f-4f96-97f3-e088503c4edd",
   "metadata": {
    "tags": []
   },
   "outputs": [
    {
     "name": "stdout",
     "output_type": "stream",
     "text": [
      "c1 =====>0, c2 ======> 1, c3 =====>2, c4 ======> 3\n",
      "c1 =====>4, c2 ======> 5, c3 =====>6, c4 ======> 7\n",
      "c1 =====>8, c2 ======> 9, c3 =====>10, c4 ======> 11\n",
      "c1 =====>12, c2 ======> 13, c3 =====>14, c4 ======> 15\n"
     ]
    }
   ],
   "source": [
    "for c1, c2, c3, c4 in two_d_arr:\n",
    "    print(f\"c1 =====>{c1}, c2 ======> {c2}, c3 =====>{c3}, c4 ======> {c4}\")"
   ]
  },
  {
   "cell_type": "markdown",
   "id": "015c4302-9754-4312-b4af-324c7b937f85",
   "metadata": {
    "tags": []
   },
   "source": [
    "## Zip"
   ]
  },
  {
   "cell_type": "code",
   "execution_count": 127,
   "id": "f979cd6d-48ce-4e80-8f10-e4a07bcf56b6",
   "metadata": {
    "tags": []
   },
   "outputs": [],
   "source": [
    "row_named = [\"First\", \"Second\", \"Third\", \"Forth\"]"
   ]
  },
  {
   "cell_type": "code",
   "execution_count": 128,
   "id": "b627146e-6812-4b64-a2a0-35f3c043d3f8",
   "metadata": {
    "tags": []
   },
   "outputs": [
    {
     "name": "stdout",
     "output_type": "stream",
     "text": [
      "First Row => [0 1 2 3]\n",
      "Second Row => [4 5 6 7]\n",
      "Third Row => [ 8  9 10 11]\n",
      "Forth Row => [12 13 14 15]\n"
     ]
    }
   ],
   "source": [
    "for name, r in zip(row_named, two_d_arr):\n",
    "    print(f\"{name} Row => {r}\")"
   ]
  },
  {
   "cell_type": "code",
   "execution_count": 129,
   "id": "585d7c23-56bb-4154-a847-af9a3491db37",
   "metadata": {
    "tags": []
   },
   "outputs": [
    {
     "name": "stdout",
     "output_type": "stream",
     "text": [
      "First Row => [0 1 2 3]\n",
      "Second Row => [4 5 6 7]\n",
      "Third Row => [ 8  9 10 11]\n",
      "Forth Row => [12 13 14 15]\n"
     ]
    }
   ],
   "source": [
    "for index, r in enumerate(two_d_arr):\n",
    "    print(f\"{row_named[index]} Row => {r}\")"
   ]
  },
  {
   "cell_type": "code",
   "execution_count": null,
   "id": "03b82f48-d5d2-4f28-b8d9-1efb2f3e2490",
   "metadata": {},
   "outputs": [],
   "source": []
  }
 ],
 "metadata": {
  "kernelspec": {
   "display_name": "Python 3 (ipykernel)",
   "language": "python",
   "name": "python3"
  },
  "language_info": {
   "codemirror_mode": {
    "name": "ipython",
    "version": 3
   },
   "file_extension": ".py",
   "mimetype": "text/x-python",
   "name": "python",
   "nbconvert_exporter": "python",
   "pygments_lexer": "ipython3",
   "version": "3.11.3"
  }
 },
 "nbformat": 4,
 "nbformat_minor": 5
}
