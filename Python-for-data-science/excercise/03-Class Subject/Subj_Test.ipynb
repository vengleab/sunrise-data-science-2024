{
 "cells": [
  {
   "cell_type": "markdown",
   "metadata": {},
   "source": [
    "<h1><center> Data Analysis: Introduction to Pandas </center></h1>"
   ]
  },
  {
   "cell_type": "markdown",
   "metadata": {},
   "source": [
    "<h2> Part IV. Merging files </h2>"
   ]
  },
  {
   "cell_type": "markdown",
   "metadata": {},
   "source": [
    "<i>Example 1. Import the necessary libraries</i>"
   ]
  },
  {
   "cell_type": "code",
   "execution_count": 3,
   "metadata": {},
   "outputs": [],
   "source": [
    "import pandas as pd\n",
    "import numpy as np"
   ]
  },
  {
   "cell_type": "markdown",
   "metadata": {},
   "source": [
    "<b>Exercise 1. Create the 3 dictionaries with the given attributes like the followings:</b><br>\n",
    "\n",
    "|<b></b>|<b></b>|\n",
    "|---|---|\n",
    "|<b><center>data1</center></b><img src=\"data1.png\" alt=\"student\" style=\"width:3cm;height:4cm\" />|<b><center>data2</center></b><img src=\"data2.png\" alt=\"student\" style=\"width:3cm;height:2.5cm\" />|\n",
    "|<b><center>data3</center></b><img src=\"data3.png\" alt=\"student\" style=\"width:2.25cm;height:3.75cm\" />|<b><center>data4</center></b><img src=\"data4.png\" alt=\"student\" style=\"width:3cm;height:4cm\" />|"
   ]
  },
  {
   "cell_type": "markdown",
   "metadata": {},
   "source": [
    "<b>Exercise 2. Create the 3 DataFrames from the dictionaries.</b>"
   ]
  },
  {
   "cell_type": "markdown",
   "metadata": {},
   "source": [
    "<b>Exercise 3. Concat data1 and data2 Dataframes placing the data2 under data1.</b>"
   ]
  },
  {
   "cell_type": "markdown",
   "metadata": {},
   "source": [
    "<b>Exercise 4. Concat data1 and data2 Dataframes placing the data2 on the right side of data1.</b>"
   ]
  },
  {
   "cell_type": "markdown",
   "metadata": {},
   "source": [
    "<b>Exercise 5. Merge the result in <i>Exercise 3</i> with data4 and display the result.</b>"
   ]
  },
  {
   "cell_type": "markdown",
   "metadata": {},
   "source": [
    "<b>Exercise 6. How many points does Johnny Cole get in the test? Display the information, score and subjects of Johnny Cole.</b>"
   ]
  },
  {
   "cell_type": "markdown",
   "metadata": {},
   "source": [
    "<b>Exercise 7. Which subject does Nara Kun take the test on? Display the information, score and subjects of Nara Kun."
   ]
  },
  {
   "cell_type": "markdown",
   "metadata": {},
   "source": [
    "<b>Exercise 8. Which subject does Mony Sopheak and James Collar take the test on? Display the information, score and subjects of the two students."
   ]
  },
  {
   "cell_type": "code",
   "execution_count": null,
   "metadata": {},
   "outputs": [],
   "source": []
  }
 ],
 "metadata": {
  "anaconda-cloud": {},
  "kernelspec": {
   "display_name": "Python 3 (ipykernel)",
   "language": "python",
   "name": "python3"
  },
  "language_info": {
   "codemirror_mode": {
    "name": "ipython",
    "version": 3
   },
   "file_extension": ".py",
   "mimetype": "text/x-python",
   "name": "python",
   "nbconvert_exporter": "python",
   "pygments_lexer": "ipython3",
   "version": "3.11.3"
  }
 },
 "nbformat": 4,
 "nbformat_minor": 4
}
