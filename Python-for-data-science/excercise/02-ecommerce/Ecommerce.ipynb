{
 "cells": [
  {
   "cell_type": "code",
   "execution_count": 3,
   "id": "765cf7c1",
   "metadata": {},
   "outputs": [],
   "source": [
    "import pandas as pd\n",
    "import numpy as np"
   ]
  },
  {
   "cell_type": "markdown",
   "id": "25f2122f",
   "metadata": {},
   "source": [
    "- [1. Exploring The Dataset](#a)\n",
    "    - [1.1 Load The Datset](#1.1)\n",
    "    - [1.2 Data Description](#1.2)\n",
    "- [2. Data Cleaning](#2)\n",
    "    - [2.1 Missing Value](#2.1)\n",
    "    - [2.2 Duplicated](#2.2)\n",
    "    - [2.3 Outliter](#2.3)"
   ]
  },
  {
   "cell_type": "markdown",
   "id": "f3e8f869",
   "metadata": {},
   "source": [
    "## 1. Exploring the datasert\n",
    "### 1.1 Load the Dataset"
   ]
  },
  {
   "cell_type": "code",
   "execution_count": 4,
   "id": "1716ee9f",
   "metadata": {},
   "outputs": [],
   "source": [
    "df = pd.read_csv('https://raw.githubusercontent.com/ManonYa09/Data_analysis_with_pandas/main/Data/Ecommerce%20Purchases.csv')\n",
    "## using github link for load the data "
   ]
  },
  {
   "cell_type": "code",
   "execution_count": null,
   "id": "b52a291f",
   "metadata": {},
   "outputs": [],
   "source": []
  },
  {
   "cell_type": "markdown",
   "id": "ecce380d",
   "metadata": {},
   "source": [
    "Check first 5 rows of the dataset"
   ]
  },
  {
   "cell_type": "code",
   "execution_count": null,
   "id": "aa1d9e70",
   "metadata": {},
   "outputs": [],
   "source": []
  },
  {
   "cell_type": "markdown",
   "id": "63506748",
   "metadata": {},
   "source": [
    "check last 5 rows of the dataset "
   ]
  },
  {
   "cell_type": "code",
   "execution_count": 34,
   "id": "1b07fea6",
   "metadata": {},
   "outputs": [],
   "source": [
    "\n",
    "df.tail()"
   ]
  },
  {
   "cell_type": "markdown",
   "id": "036e2d80",
   "metadata": {},
   "source": [
    "Check type of the dataset"
   ]
  },
  {
   "cell_type": "code",
   "execution_count": null,
   "id": "3c9387fe",
   "metadata": {},
   "outputs": [],
   "source": []
  },
  {
   "cell_type": "markdown",
   "id": "978338fd",
   "metadata": {},
   "source": [
    "\n",
    "Check null values in the dataset"
   ]
  },
  {
   "cell_type": "code",
   "execution_count": null,
   "id": "3c463850",
   "metadata": {},
   "outputs": [],
   "source": []
  },
  {
   "cell_type": "markdown",
   "id": "4e60c70d",
   "metadata": {},
   "source": [
    "\n",
    "5. How many rows and columns are there in our Dataset?"
   ]
  },
  {
   "cell_type": "code",
   "execution_count": null,
   "id": "de5cbae2",
   "metadata": {},
   "outputs": [],
   "source": []
  },
  {
   "cell_type": "markdown",
   "id": "b0078549",
   "metadata": {},
   "source": [
    "\n",
    "6. Highest and Lowest Purchase Prices."
   ]
  },
  {
   "cell_type": "code",
   "execution_count": null,
   "id": "f37a4eb9",
   "metadata": {},
   "outputs": [],
   "source": []
  },
  {
   "cell_type": "markdown",
   "id": "515bc630",
   "metadata": {},
   "source": [
    "\n",
    "7. Average Purchase Price"
   ]
  },
  {
   "cell_type": "code",
   "execution_count": null,
   "id": "96cdbdb9",
   "metadata": {},
   "outputs": [],
   "source": []
  },
  {
   "cell_type": "markdown",
   "id": "b9967b98",
   "metadata": {},
   "source": [
    "\n",
    "8. How many people have French 'fr' as their Language?"
   ]
  },
  {
   "cell_type": "code",
   "execution_count": null,
   "id": "d294f550",
   "metadata": {},
   "outputs": [],
   "source": []
  },
  {
   "cell_type": "markdown",
   "id": "f6e65688",
   "metadata": {},
   "source": [
    "9. How many languages people have in total"
   ]
  },
  {
   "cell_type": "code",
   "execution_count": 14,
   "id": "f3039e6f",
   "metadata": {
    "scrolled": true
   },
   "outputs": [
    {
     "data": {
      "text/plain": [
       "Language\n",
       "de    1155\n",
       "ru    1155\n",
       "el    1137\n",
       "pt    1118\n",
       "en    1098\n",
       "fr    1097\n",
       "es    1095\n",
       "it    1086\n",
       "zh    1059\n",
       "Name: count, dtype: int64"
      ]
     },
     "execution_count": 14,
     "metadata": {},
     "output_type": "execute_result"
    }
   ],
   "source": [
    "df['Language'].value_counts()"
   ]
  },
  {
   "cell_type": "markdown",
   "id": "622cc870",
   "metadata": {},
   "source": [
    "\n",
    "9. Job Title Contains Engineer or engineer"
   ]
  },
  {
   "cell_type": "code",
   "execution_count": 15,
   "id": "f3b0cc86",
   "metadata": {},
   "outputs": [],
   "source": []
  },
  {
   "cell_type": "markdown",
   "id": "35025574",
   "metadata": {},
   "source": [
    "How many number of people have job as manager?"
   ]
  },
  {
   "cell_type": "code",
   "execution_count": null,
   "id": "c4ee819e",
   "metadata": {},
   "outputs": [],
   "source": []
  },
  {
   "cell_type": "markdown",
   "id": "c34e6db8",
   "metadata": {},
   "source": [
    "\n",
    "10. Find The Email of the person with the following IP Address: 132.207.160.22"
   ]
  },
  {
   "cell_type": "code",
   "execution_count": null,
   "id": "47ba5db5",
   "metadata": {},
   "outputs": [],
   "source": []
  },
  {
   "cell_type": "markdown",
   "id": "0ba31c64",
   "metadata": {},
   "source": [
    "\n",
    "11. How many People have Mastercard as their Credit Card Provider and made a purchase above 50?"
   ]
  },
  {
   "cell_type": "code",
   "execution_count": null,
   "id": "9d69546f",
   "metadata": {},
   "outputs": [],
   "source": []
  },
  {
   "cell_type": "markdown",
   "id": "256ae37a",
   "metadata": {},
   "source": [
    "\n",
    "12. Find the email of the person with the following Credit Card Number: 4664825258997302"
   ]
  },
  {
   "cell_type": "code",
   "execution_count": null,
   "id": "313a48ac",
   "metadata": {},
   "outputs": [],
   "source": []
  },
  {
   "cell_type": "markdown",
   "id": "d88eb425",
   "metadata": {},
   "source": [
    "\n",
    "13. How many people purchase during the AM and how many people purchase during PM?"
   ]
  },
  {
   "cell_type": "code",
   "execution_count": null,
   "id": "7cd4d3e4",
   "metadata": {},
   "outputs": [],
   "source": []
  },
  {
   "cell_type": "markdown",
   "id": "43417a4b",
   "metadata": {},
   "source": [
    "\n",
    "14. How many people have a credit card that expires in 2020?"
   ]
  },
  {
   "cell_type": "code",
   "execution_count": null,
   "id": "0e4af1fa",
   "metadata": {},
   "outputs": [],
   "source": []
  },
  {
   "cell_type": "markdown",
   "id": "3e51b16b",
   "metadata": {},
   "source": [
    "\n",
    "15. What are the top 5 most popular email providers (e.g. [gmail.com](http://gmail.com/), [yahoo.com](http://yahoo.com/), etc...)"
   ]
  },
  {
   "cell_type": "markdown",
   "id": "53b9e05c",
   "metadata": {},
   "source": []
  }
 ],
 "metadata": {
  "kernelspec": {
   "display_name": "Python 3 (ipykernel)",
   "language": "python",
   "name": "python3"
  },
  "language_info": {
   "codemirror_mode": {
    "name": "ipython",
    "version": 3
   },
   "file_extension": ".py",
   "mimetype": "text/x-python",
   "name": "python",
   "nbconvert_exporter": "python",
   "pygments_lexer": "ipython3",
   "version": "3.11.5"
  }
 },
 "nbformat": 4,
 "nbformat_minor": 5
}
