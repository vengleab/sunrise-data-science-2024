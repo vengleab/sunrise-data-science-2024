{
 "cells": [
  {
   "cell_type": "code",
   "execution_count": 182,
   "id": "d9147ddb-c9a0-4a37-b875-c69788d478ee",
   "metadata": {
    "tags": []
   },
   "outputs": [],
   "source": [
    "import pandas as pd\n",
    "import numpy as np\n",
    "import matplotlib.pyplot as plt\n",
    "import seaborn as sns"
   ]
  },
  {
   "cell_type": "code",
   "execution_count": 183,
   "id": "2a14adc3-52f9-4f17-9f4f-f8d8ce2a8660",
   "metadata": {
    "tags": []
   },
   "outputs": [
    {
     "data": {
      "text/html": [
       "<div>\n",
       "<style scoped>\n",
       "    .dataframe tbody tr th:only-of-type {\n",
       "        vertical-align: middle;\n",
       "    }\n",
       "\n",
       "    .dataframe tbody tr th {\n",
       "        vertical-align: top;\n",
       "    }\n",
       "\n",
       "    .dataframe thead th {\n",
       "        text-align: right;\n",
       "    }\n",
       "</style>\n",
       "<table border=\"1\" class=\"dataframe\">\n",
       "  <thead>\n",
       "    <tr style=\"text-align: right;\">\n",
       "      <th></th>\n",
       "      <th>loan_amnt</th>\n",
       "      <th>term</th>\n",
       "      <th>int_rate</th>\n",
       "      <th>installment</th>\n",
       "      <th>sub_grade</th>\n",
       "      <th>emp_title</th>\n",
       "      <th>emp_length</th>\n",
       "      <th>annual_inc</th>\n",
       "      <th>issue_d</th>\n",
       "      <th>loan_status</th>\n",
       "      <th>monthly_income</th>\n",
       "      <th>emp_industry</th>\n",
       "      <th>age</th>\n",
       "    </tr>\n",
       "  </thead>\n",
       "  <tbody>\n",
       "    <tr>\n",
       "      <th>0</th>\n",
       "      <td>$5,000.00</td>\n",
       "      <td>36 months</td>\n",
       "      <td>13.56</td>\n",
       "      <td>$169.83</td>\n",
       "      <td>C1</td>\n",
       "      <td>Public Affairs Specialist</td>\n",
       "      <td>10+ years</td>\n",
       "      <td>$175,000.00</td>\n",
       "      <td>18-Aug</td>\n",
       "      <td>False</td>\n",
       "      <td>$14,583.33</td>\n",
       "      <td>other</td>\n",
       "      <td>33</td>\n",
       "    </tr>\n",
       "    <tr>\n",
       "      <th>1</th>\n",
       "      <td>$4,000.00</td>\n",
       "      <td>36 months</td>\n",
       "      <td>10.9</td>\n",
       "      <td>$130.77</td>\n",
       "      <td>B4</td>\n",
       "      <td>Reception/Sales</td>\n",
       "      <td>1 year</td>\n",
       "      <td>$25,000.00</td>\n",
       "      <td>18-Mar</td>\n",
       "      <td>True</td>\n",
       "      <td>$2,083.33</td>\n",
       "      <td>other</td>\n",
       "      <td>21</td>\n",
       "    </tr>\n",
       "    <tr>\n",
       "      <th>2</th>\n",
       "      <td>$5,000.00</td>\n",
       "      <td>36 months</td>\n",
       "      <td>23.4</td>\n",
       "      <td>$194.60</td>\n",
       "      <td>E1</td>\n",
       "      <td>Sales</td>\n",
       "      <td>7 years</td>\n",
       "      <td>$120,000.00</td>\n",
       "      <td>18-Jul</td>\n",
       "      <td>True</td>\n",
       "      <td>$10,000.00</td>\n",
       "      <td>other</td>\n",
       "      <td>56</td>\n",
       "    </tr>\n",
       "    <tr>\n",
       "      <th>3</th>\n",
       "      <td>$5,500.00</td>\n",
       "      <td>36 months</td>\n",
       "      <td>14.47</td>\n",
       "      <td>$189.24</td>\n",
       "      <td>C2</td>\n",
       "      <td>other</td>\n",
       "      <td>NaN</td>\n",
       "      <td>$26,300.00</td>\n",
       "      <td>18-Dec</td>\n",
       "      <td>False</td>\n",
       "      <td>$2,191.67</td>\n",
       "      <td>other</td>\n",
       "      <td>20</td>\n",
       "    </tr>\n",
       "    <tr>\n",
       "      <th>4</th>\n",
       "      <td>$11,200.00</td>\n",
       "      <td>60 months</td>\n",
       "      <td>16.14</td>\n",
       "      <td>$273.20</td>\n",
       "      <td>C4</td>\n",
       "      <td>Engeneering</td>\n",
       "      <td>1 year</td>\n",
       "      <td>$35,000.00</td>\n",
       "      <td>18-Aug</td>\n",
       "      <td>True</td>\n",
       "      <td>$2,916.67</td>\n",
       "      <td>other</td>\n",
       "      <td>23</td>\n",
       "    </tr>\n",
       "  </tbody>\n",
       "</table>\n",
       "</div>"
      ],
      "text/plain": [
       "     loan_amnt         term int_rate  installment  sub_grade  \\\n",
       "0    $5,000.00    36 months    13.56      $169.83         C1   \n",
       "1    $4,000.00    36 months     10.9      $130.77         B4   \n",
       "2    $5,000.00    36 months     23.4      $194.60         E1   \n",
       "3    $5,500.00    36 months    14.47      $189.24         C2   \n",
       "4   $11,200.00    60 months    16.14      $273.20         C4   \n",
       "\n",
       "                   emp_title emp_length    annual_inc  issue_d  loan_status  \\\n",
       "0  Public Affairs Specialist  10+ years   $175,000.00   18-Aug        False   \n",
       "1            Reception/Sales     1 year    $25,000.00   18-Mar         True   \n",
       "2                      Sales    7 years   $120,000.00   18-Jul         True   \n",
       "3                      other        NaN    $26,300.00   18-Dec        False   \n",
       "4                Engeneering     1 year    $35,000.00   18-Aug         True   \n",
       "\n",
       "   monthly_income  emp_industry  age  \n",
       "0      $14,583.33         other   33  \n",
       "1       $2,083.33         other   21  \n",
       "2      $10,000.00         other   56  \n",
       "3       $2,191.67         other   20  \n",
       "4       $2,916.67         other   23  "
      ]
     },
     "execution_count": 183,
     "metadata": {},
     "output_type": "execute_result"
    }
   ],
   "source": [
    "data = pd.read_csv(\"./messy_data.csv\")\n",
    "data.head()"
   ]
  },
  {
   "cell_type": "markdown",
   "id": "12214610-53f6-4b31-b67e-c0e2deea7fc5",
   "metadata": {},
   "source": [
    "# Understanding datasets information"
   ]
  },
  {
   "cell_type": "code",
   "execution_count": 184,
   "id": "3d25988f-589e-49e8-b79e-db0f4d362c34",
   "metadata": {
    "tags": []
   },
   "outputs": [
    {
     "data": {
      "text/plain": [
       " loan_amnt          object\n",
       "term                object\n",
       "int_rate            object\n",
       " installment        object\n",
       "sub_grade           object\n",
       "emp_title           object\n",
       "emp_length          object\n",
       " annual_inc         object\n",
       "issue_d             object\n",
       "loan_status           bool\n",
       " monthly_income     object\n",
       "emp_industry        object\n",
       "age                  int64\n",
       "dtype: object"
      ]
     },
     "execution_count": 184,
     "metadata": {},
     "output_type": "execute_result"
    }
   ],
   "source": [
    "data.dtypes"
   ]
  },
  {
   "cell_type": "code",
   "execution_count": 185,
   "id": "575b80fc-427f-4442-a949-0c88a8993f3c",
   "metadata": {
    "tags": []
   },
   "outputs": [
    {
     "data": {
      "text/plain": [
       "Index([' loan_amnt ', 'term', 'int_rate', ' installment ', 'sub_grade',\n",
       "       'emp_title', 'emp_length', ' annual_inc ', 'issue_d', 'loan_status',\n",
       "       ' monthly_income ', 'emp_industry', 'age'],\n",
       "      dtype='object')"
      ]
     },
     "execution_count": 185,
     "metadata": {},
     "output_type": "execute_result"
    }
   ],
   "source": [
    "data.columns"
   ]
  },
  {
   "cell_type": "code",
   "execution_count": 186,
   "id": "bf7cbce2-34d9-4db3-b47a-e37f0f9f4410",
   "metadata": {
    "tags": []
   },
   "outputs": [
    {
     "data": {
      "text/plain": [
       "['loan_amnt',\n",
       " 'term',\n",
       " 'int_rate',\n",
       " 'installment',\n",
       " 'sub_grade',\n",
       " 'emp_title',\n",
       " 'emp_length',\n",
       " 'annual_inc',\n",
       " 'issue_d',\n",
       " 'loan_status',\n",
       " 'monthly_income',\n",
       " 'emp_industry',\n",
       " 'age']"
      ]
     },
     "execution_count": 186,
     "metadata": {},
     "output_type": "execute_result"
    }
   ],
   "source": [
    "cols = []\n",
    "for c in data.columns:\n",
    "    cols.append(c.strip())\n",
    "cols"
   ]
  },
  {
   "cell_type": "code",
   "execution_count": 187,
   "id": "fcdfee19-3397-4ab0-a5bd-343f0667889a",
   "metadata": {
    "tags": []
   },
   "outputs": [
    {
     "data": {
      "text/plain": [
       "Index(['loan_amnt', 'term', 'int_rate', 'installment', 'sub_grade',\n",
       "       'emp_title', 'emp_length', 'annual_inc', 'issue_d', 'loan_status',\n",
       "       'monthly_income', 'emp_industry', 'age'],\n",
       "      dtype='object')"
      ]
     },
     "execution_count": 187,
     "metadata": {},
     "output_type": "execute_result"
    }
   ],
   "source": [
    "data.columns = cols\n",
    "data.columns"
   ]
  },
  {
   "cell_type": "code",
   "execution_count": 188,
   "id": "b70e9865-9001-48e0-81ec-5bc32e280adf",
   "metadata": {
    "tags": []
   },
   "outputs": [
    {
     "data": {
      "text/plain": [
       "(49524, 13)"
      ]
     },
     "execution_count": 188,
     "metadata": {},
     "output_type": "execute_result"
    }
   ],
   "source": [
    "data.shape"
   ]
  },
  {
   "cell_type": "markdown",
   "id": "d7b04e05-bcc9-4025-828e-0c2657387022",
   "metadata": {},
   "source": [
    "# Explore data analysis"
   ]
  },
  {
   "cell_type": "code",
   "execution_count": 189,
   "id": "0aed373b-a733-42f5-9f9a-893b32223fe2",
   "metadata": {
    "tags": []
   },
   "outputs": [
    {
     "data": {
      "text/html": [
       "<div>\n",
       "<style scoped>\n",
       "    .dataframe tbody tr th:only-of-type {\n",
       "        vertical-align: middle;\n",
       "    }\n",
       "\n",
       "    .dataframe tbody tr th {\n",
       "        vertical-align: top;\n",
       "    }\n",
       "\n",
       "    .dataframe thead th {\n",
       "        text-align: right;\n",
       "    }\n",
       "</style>\n",
       "<table border=\"1\" class=\"dataframe\">\n",
       "  <thead>\n",
       "    <tr style=\"text-align: right;\">\n",
       "      <th></th>\n",
       "      <th>loan_amnt</th>\n",
       "      <th>term</th>\n",
       "      <th>int_rate</th>\n",
       "      <th>installment</th>\n",
       "      <th>sub_grade</th>\n",
       "      <th>emp_title</th>\n",
       "      <th>emp_length</th>\n",
       "      <th>annual_inc</th>\n",
       "      <th>issue_d</th>\n",
       "      <th>loan_status</th>\n",
       "      <th>monthly_income</th>\n",
       "      <th>emp_industry</th>\n",
       "      <th>age</th>\n",
       "    </tr>\n",
       "  </thead>\n",
       "  <tbody>\n",
       "    <tr>\n",
       "      <th>0</th>\n",
       "      <td>$5,000.00</td>\n",
       "      <td>36 months</td>\n",
       "      <td>13.56</td>\n",
       "      <td>$169.83</td>\n",
       "      <td>C1</td>\n",
       "      <td>Public Affairs Specialist</td>\n",
       "      <td>10+ years</td>\n",
       "      <td>$175,000.00</td>\n",
       "      <td>18-Aug</td>\n",
       "      <td>False</td>\n",
       "      <td>$14,583.33</td>\n",
       "      <td>other</td>\n",
       "      <td>33</td>\n",
       "    </tr>\n",
       "    <tr>\n",
       "      <th>1</th>\n",
       "      <td>$4,000.00</td>\n",
       "      <td>36 months</td>\n",
       "      <td>10.9</td>\n",
       "      <td>$130.77</td>\n",
       "      <td>B4</td>\n",
       "      <td>Reception/Sales</td>\n",
       "      <td>1 year</td>\n",
       "      <td>$25,000.00</td>\n",
       "      <td>18-Mar</td>\n",
       "      <td>True</td>\n",
       "      <td>$2,083.33</td>\n",
       "      <td>other</td>\n",
       "      <td>21</td>\n",
       "    </tr>\n",
       "    <tr>\n",
       "      <th>2</th>\n",
       "      <td>$5,000.00</td>\n",
       "      <td>36 months</td>\n",
       "      <td>23.4</td>\n",
       "      <td>$194.60</td>\n",
       "      <td>E1</td>\n",
       "      <td>Sales</td>\n",
       "      <td>7 years</td>\n",
       "      <td>$120,000.00</td>\n",
       "      <td>18-Jul</td>\n",
       "      <td>True</td>\n",
       "      <td>$10,000.00</td>\n",
       "      <td>other</td>\n",
       "      <td>56</td>\n",
       "    </tr>\n",
       "    <tr>\n",
       "      <th>3</th>\n",
       "      <td>$5,500.00</td>\n",
       "      <td>36 months</td>\n",
       "      <td>14.47</td>\n",
       "      <td>$189.24</td>\n",
       "      <td>C2</td>\n",
       "      <td>other</td>\n",
       "      <td>NaN</td>\n",
       "      <td>$26,300.00</td>\n",
       "      <td>18-Dec</td>\n",
       "      <td>False</td>\n",
       "      <td>$2,191.67</td>\n",
       "      <td>other</td>\n",
       "      <td>20</td>\n",
       "    </tr>\n",
       "    <tr>\n",
       "      <th>4</th>\n",
       "      <td>$11,200.00</td>\n",
       "      <td>60 months</td>\n",
       "      <td>16.14</td>\n",
       "      <td>$273.20</td>\n",
       "      <td>C4</td>\n",
       "      <td>Engeneering</td>\n",
       "      <td>1 year</td>\n",
       "      <td>$35,000.00</td>\n",
       "      <td>18-Aug</td>\n",
       "      <td>True</td>\n",
       "      <td>$2,916.67</td>\n",
       "      <td>other</td>\n",
       "      <td>23</td>\n",
       "    </tr>\n",
       "  </tbody>\n",
       "</table>\n",
       "</div>"
      ],
      "text/plain": [
       "      loan_amnt        term int_rate installment sub_grade  \\\n",
       "0    $5,000.00    36 months    13.56    $169.83         C1   \n",
       "1    $4,000.00    36 months     10.9    $130.77         B4   \n",
       "2    $5,000.00    36 months     23.4    $194.60         E1   \n",
       "3    $5,500.00    36 months    14.47    $189.24         C2   \n",
       "4   $11,200.00    60 months    16.14    $273.20         C4   \n",
       "\n",
       "                   emp_title emp_length     annual_inc issue_d  loan_status  \\\n",
       "0  Public Affairs Specialist  10+ years   $175,000.00   18-Aug        False   \n",
       "1            Reception/Sales     1 year    $25,000.00   18-Mar         True   \n",
       "2                      Sales    7 years   $120,000.00   18-Jul         True   \n",
       "3                      other        NaN    $26,300.00   18-Dec        False   \n",
       "4                Engeneering     1 year    $35,000.00   18-Aug         True   \n",
       "\n",
       "  monthly_income emp_industry  age  \n",
       "0    $14,583.33         other   33  \n",
       "1     $2,083.33         other   21  \n",
       "2    $10,000.00         other   56  \n",
       "3     $2,191.67         other   20  \n",
       "4     $2,916.67         other   23  "
      ]
     },
     "execution_count": 189,
     "metadata": {},
     "output_type": "execute_result"
    }
   ],
   "source": [
    "data.head()"
   ]
  },
  {
   "cell_type": "markdown",
   "id": "1925be7e-ee59-4b43-9afe-52a4e0ce238b",
   "metadata": {},
   "source": [
    "## Questions"
   ]
  },
  {
   "cell_type": "markdown",
   "id": "4b7d5589-823a-4ff9-83d8-80814cf356da",
   "metadata": {},
   "source": [
    "- What is the loan amount which applied by customer?\n",
    "- What is the monthly income ranges?\n",
    "- What is the range of loan amount which is likely to approve?\n",
    "- Which grade applied loan the most?\n",
    "- Does grade impact loan amount?\n",
    "- Does emp_length impact loan amount or loan interests?\n",
    "- Does grade impact loan interests?\n"
   ]
  },
  {
   "cell_type": "markdown",
   "id": "770081e4-ca75-42d5-9126-4e8911a665f3",
   "metadata": {},
   "source": [
    "### Convert currency to float"
   ]
  },
  {
   "cell_type": "code",
   "execution_count": 190,
   "id": "d6673bcd-1baa-45f6-9bdc-b7df2dd62a21",
   "metadata": {
    "tags": []
   },
   "outputs": [
    {
     "data": {
      "text/plain": [
       "loan_amnt         object\n",
       "term              object\n",
       "int_rate          object\n",
       "installment       object\n",
       "sub_grade         object\n",
       "emp_title         object\n",
       "emp_length        object\n",
       "annual_inc        object\n",
       "issue_d           object\n",
       "loan_status         bool\n",
       "monthly_income    object\n",
       "emp_industry      object\n",
       "age                int64\n",
       "dtype: object"
      ]
     },
     "execution_count": 190,
     "metadata": {},
     "output_type": "execute_result"
    }
   ],
   "source": [
    "data.dtypes"
   ]
  },
  {
   "cell_type": "code",
   "execution_count": 191,
   "id": "b4d15621-5a3d-4675-81a0-47a143594e21",
   "metadata": {
    "tags": []
   },
   "outputs": [],
   "source": [
    "# cols = [\"loan_amnt\", \"installment\", \"monthly_income\", \"annual_inc\"]\n",
    "# for c in cols:\n",
    "#     print(c)\n",
    "#     data[c] =  data[c].str.replace(\"$\", \"\").str.replace(\",\", \"\").str.replace(\"unknown\", \"0\").str.replace(\"\\s?-\\s?\", \"0\", regex=True).astype(float)"
   ]
  },
  {
   "cell_type": "markdown",
   "id": "13940498-c551-4e62-af42-a8257a976601",
   "metadata": {
    "tags": []
   },
   "source": [
    "### What is the loan amount which applied by customer?"
   ]
  },
  {
   "cell_type": "markdown",
   "id": "3fccec81-755c-4b85-8fe5-63b011eb76ff",
   "metadata": {
    "tags": []
   },
   "source": [
    "#### Clean data\n"
   ]
  },
  {
   "cell_type": "code",
   "execution_count": 192,
   "id": "94c6ff3c-80d8-48fc-99c6-8ba7f4f698cd",
   "metadata": {
    "tags": []
   },
   "outputs": [
    {
     "name": "stderr",
     "output_type": "stream",
     "text": [
      "C:\\Users\\soven\\AppData\\Local\\Temp\\ipykernel_10984\\1460526480.py:1: FutureWarning: The default value of regex will change from True to False in a future version. In addition, single character regular expressions will *not* be treated as literal strings when regex=True.\n",
      "  data[\"loan_amnt\"] =  data[\"loan_amnt\"].str.replace(\"$\", \"\").str.replace(\",\", \"\").str.replace(\"unknown\", \"0\").astype(float)\n"
     ]
    }
   ],
   "source": [
    "data[\"loan_amnt\"] =  data[\"loan_amnt\"].str.replace(\"$\", \"\").str.replace(\",\", \"\").str.replace(\"unknown\", \"0\").astype(float)"
   ]
  },
  {
   "cell_type": "code",
   "execution_count": 193,
   "id": "efbdd4a3-feca-40b2-9eed-86165b21c940",
   "metadata": {
    "tags": []
   },
   "outputs": [
    {
     "data": {
      "text/html": [
       "<div>\n",
       "<style scoped>\n",
       "    .dataframe tbody tr th:only-of-type {\n",
       "        vertical-align: middle;\n",
       "    }\n",
       "\n",
       "    .dataframe tbody tr th {\n",
       "        vertical-align: top;\n",
       "    }\n",
       "\n",
       "    .dataframe thead th {\n",
       "        text-align: right;\n",
       "    }\n",
       "</style>\n",
       "<table border=\"1\" class=\"dataframe\">\n",
       "  <thead>\n",
       "    <tr style=\"text-align: right;\">\n",
       "      <th></th>\n",
       "      <th>loan_amnt</th>\n",
       "      <th>term</th>\n",
       "      <th>int_rate</th>\n",
       "      <th>installment</th>\n",
       "      <th>sub_grade</th>\n",
       "      <th>emp_title</th>\n",
       "      <th>emp_length</th>\n",
       "      <th>annual_inc</th>\n",
       "      <th>issue_d</th>\n",
       "      <th>loan_status</th>\n",
       "      <th>monthly_income</th>\n",
       "      <th>emp_industry</th>\n",
       "      <th>age</th>\n",
       "    </tr>\n",
       "  </thead>\n",
       "  <tbody>\n",
       "    <tr>\n",
       "      <th>0</th>\n",
       "      <td>5000.0</td>\n",
       "      <td>36 months</td>\n",
       "      <td>13.56</td>\n",
       "      <td>$169.83</td>\n",
       "      <td>C1</td>\n",
       "      <td>Public Affairs Specialist</td>\n",
       "      <td>10+ years</td>\n",
       "      <td>$175,000.00</td>\n",
       "      <td>18-Aug</td>\n",
       "      <td>False</td>\n",
       "      <td>$14,583.33</td>\n",
       "      <td>other</td>\n",
       "      <td>33</td>\n",
       "    </tr>\n",
       "    <tr>\n",
       "      <th>1</th>\n",
       "      <td>4000.0</td>\n",
       "      <td>36 months</td>\n",
       "      <td>10.9</td>\n",
       "      <td>$130.77</td>\n",
       "      <td>B4</td>\n",
       "      <td>Reception/Sales</td>\n",
       "      <td>1 year</td>\n",
       "      <td>$25,000.00</td>\n",
       "      <td>18-Mar</td>\n",
       "      <td>True</td>\n",
       "      <td>$2,083.33</td>\n",
       "      <td>other</td>\n",
       "      <td>21</td>\n",
       "    </tr>\n",
       "    <tr>\n",
       "      <th>2</th>\n",
       "      <td>5000.0</td>\n",
       "      <td>36 months</td>\n",
       "      <td>23.4</td>\n",
       "      <td>$194.60</td>\n",
       "      <td>E1</td>\n",
       "      <td>Sales</td>\n",
       "      <td>7 years</td>\n",
       "      <td>$120,000.00</td>\n",
       "      <td>18-Jul</td>\n",
       "      <td>True</td>\n",
       "      <td>$10,000.00</td>\n",
       "      <td>other</td>\n",
       "      <td>56</td>\n",
       "    </tr>\n",
       "    <tr>\n",
       "      <th>3</th>\n",
       "      <td>5500.0</td>\n",
       "      <td>36 months</td>\n",
       "      <td>14.47</td>\n",
       "      <td>$189.24</td>\n",
       "      <td>C2</td>\n",
       "      <td>other</td>\n",
       "      <td>NaN</td>\n",
       "      <td>$26,300.00</td>\n",
       "      <td>18-Dec</td>\n",
       "      <td>False</td>\n",
       "      <td>$2,191.67</td>\n",
       "      <td>other</td>\n",
       "      <td>20</td>\n",
       "    </tr>\n",
       "    <tr>\n",
       "      <th>4</th>\n",
       "      <td>11200.0</td>\n",
       "      <td>60 months</td>\n",
       "      <td>16.14</td>\n",
       "      <td>$273.20</td>\n",
       "      <td>C4</td>\n",
       "      <td>Engeneering</td>\n",
       "      <td>1 year</td>\n",
       "      <td>$35,000.00</td>\n",
       "      <td>18-Aug</td>\n",
       "      <td>True</td>\n",
       "      <td>$2,916.67</td>\n",
       "      <td>other</td>\n",
       "      <td>23</td>\n",
       "    </tr>\n",
       "  </tbody>\n",
       "</table>\n",
       "</div>"
      ],
      "text/plain": [
       "   loan_amnt        term int_rate installment sub_grade  \\\n",
       "0     5000.0   36 months    13.56    $169.83         C1   \n",
       "1     4000.0   36 months     10.9    $130.77         B4   \n",
       "2     5000.0   36 months     23.4    $194.60         E1   \n",
       "3     5500.0   36 months    14.47    $189.24         C2   \n",
       "4    11200.0   60 months    16.14    $273.20         C4   \n",
       "\n",
       "                   emp_title emp_length     annual_inc issue_d  loan_status  \\\n",
       "0  Public Affairs Specialist  10+ years   $175,000.00   18-Aug        False   \n",
       "1            Reception/Sales     1 year    $25,000.00   18-Mar         True   \n",
       "2                      Sales    7 years   $120,000.00   18-Jul         True   \n",
       "3                      other        NaN    $26,300.00   18-Dec        False   \n",
       "4                Engeneering     1 year    $35,000.00   18-Aug         True   \n",
       "\n",
       "  monthly_income emp_industry  age  \n",
       "0    $14,583.33         other   33  \n",
       "1     $2,083.33         other   21  \n",
       "2    $10,000.00         other   56  \n",
       "3     $2,191.67         other   20  \n",
       "4     $2,916.67         other   23  "
      ]
     },
     "execution_count": 193,
     "metadata": {},
     "output_type": "execute_result"
    }
   ],
   "source": [
    "data.head()"
   ]
  },
  {
   "cell_type": "code",
   "execution_count": 194,
   "id": "7417012c-c1df-4bef-adf4-e10b7c0401b2",
   "metadata": {
    "tags": []
   },
   "outputs": [
    {
     "data": {
      "image/png": "[encoded data removed]",
      "text/plain": [
       "<Figure size 640x480 with 1 Axes>"
      ]
     },
     "metadata": {},
     "output_type": "display_data"
    }
   ],
   "source": [
    "plt.hist(data[\"loan_amnt\"])\n",
    "plt.show()"
   ]
  },
  {
   "cell_type": "code",
   "execution_count": 195,
   "id": "8e730959-17cf-418f-ac8c-fd2057badc77",
   "metadata": {
    "tags": []
   },
   "outputs": [
    {
     "data": {
      "text/plain": [
       "count    49524.000000\n",
       "mean     15826.665859\n",
       "std      10297.121738\n",
       "min          0.000000\n",
       "25%       8000.000000\n",
       "50%      13900.000000\n",
       "75%      22000.000000\n",
       "max      40000.000000\n",
       "Name: loan_amnt, dtype: float64"
      ]
     },
     "execution_count": 195,
     "metadata": {},
     "output_type": "execute_result"
    }
   ],
   "source": [
    "data[\"loan_amnt\"].describe()"
   ]
  },
  {
   "cell_type": "code",
   "execution_count": 196,
   "id": "5883b0c5-b588-4908-b9e1-9401587e9146",
   "metadata": {
    "tags": []
   },
   "outputs": [
    {
     "name": "stdout",
     "output_type": "stream",
     "text": [
      "Most frequent loan amount is from 5000$ to 15000$\n"
     ]
    }
   ],
   "source": [
    "print(\"Most frequent loan amount is from 5000$ to 15000$\")"
   ]
  },
  {
   "cell_type": "markdown",
   "id": "0806b03e-4c30-4683-8fda-304446eae590",
   "metadata": {},
   "source": [
    "### What is the monthly income ranges?"
   ]
  },
  {
   "cell_type": "code",
   "execution_count": 202,
   "id": "857b4146-6ec4-4d8e-9bc1-b9b0a0be633e",
   "metadata": {
    "tags": []
   },
   "outputs": [
    {
     "data": {
      "text/plain": [
       "[14583.33, 2083.33, 10000.0, 2191.67, 2916.67]"
      ]
     },
     "execution_count": 202,
     "metadata": {},
     "output_type": "execute_result"
    }
   ],
   "source": [
    "values = []\n",
    "for v in data[\"monthly_income\"]:\n",
    "    try:\n",
    "        replaced = v.replace(\"$\", \"\").replace(\",\", \"\").replace(\"-\", \"\").strip()\n",
    "        if replaced == '':\n",
    "            replaced = \"0\"\n",
    "        \n",
    "        number = float(replaced)\n",
    "        values.append(number)\n",
    "    except Exception as e:\n",
    "        print(f\"value: {replaced}\")\n",
    "        print(f\"orgin: {v}\")\n",
    "        print(e)\n",
    "        # print(f\"Error: {v}\")\n",
    "values[:5]"
   ]
  },
  {
   "cell_type": "code",
   "execution_count": 203,
   "id": "6a2ebed1-a612-4646-9366-48a1cfb2611a",
   "metadata": {
    "tags": []
   },
   "outputs": [],
   "source": [
    "data[\"monthly_income\"] = values"
   ]
  },
  {
   "cell_type": "code",
   "execution_count": 204,
   "id": "3798b0c5-176a-492c-8805-a4487eee00e8",
   "metadata": {
    "tags": []
   },
   "outputs": [
    {
     "data": {
      "text/html": [
       "<div>\n",
       "<style scoped>\n",
       "    .dataframe tbody tr th:only-of-type {\n",
       "        vertical-align: middle;\n",
       "    }\n",
       "\n",
       "    .dataframe tbody tr th {\n",
       "        vertical-align: top;\n",
       "    }\n",
       "\n",
       "    .dataframe thead th {\n",
       "        text-align: right;\n",
       "    }\n",
       "</style>\n",
       "<table border=\"1\" class=\"dataframe\">\n",
       "  <thead>\n",
       "    <tr style=\"text-align: right;\">\n",
       "      <th></th>\n",
       "      <th>loan_amnt</th>\n",
       "      <th>term</th>\n",
       "      <th>int_rate</th>\n",
       "      <th>installment</th>\n",
       "      <th>sub_grade</th>\n",
       "      <th>emp_title</th>\n",
       "      <th>emp_length</th>\n",
       "      <th>annual_inc</th>\n",
       "      <th>issue_d</th>\n",
       "      <th>loan_status</th>\n",
       "      <th>monthly_income</th>\n",
       "      <th>emp_industry</th>\n",
       "      <th>age</th>\n",
       "    </tr>\n",
       "  </thead>\n",
       "  <tbody>\n",
       "    <tr>\n",
       "      <th>0</th>\n",
       "      <td>5000.0</td>\n",
       "      <td>36 months</td>\n",
       "      <td>13.56</td>\n",
       "      <td>$169.83</td>\n",
       "      <td>C1</td>\n",
       "      <td>Public Affairs Specialist</td>\n",
       "      <td>10+ years</td>\n",
       "      <td>$175,000.00</td>\n",
       "      <td>18-Aug</td>\n",
       "      <td>False</td>\n",
       "      <td>14583.33</td>\n",
       "      <td>other</td>\n",
       "      <td>33</td>\n",
       "    </tr>\n",
       "    <tr>\n",
       "      <th>1</th>\n",
       "      <td>4000.0</td>\n",
       "      <td>36 months</td>\n",
       "      <td>10.9</td>\n",
       "      <td>$130.77</td>\n",
       "      <td>B4</td>\n",
       "      <td>Reception/Sales</td>\n",
       "      <td>1 year</td>\n",
       "      <td>$25,000.00</td>\n",
       "      <td>18-Mar</td>\n",
       "      <td>True</td>\n",
       "      <td>2083.33</td>\n",
       "      <td>other</td>\n",
       "      <td>21</td>\n",
       "    </tr>\n",
       "    <tr>\n",
       "      <th>2</th>\n",
       "      <td>5000.0</td>\n",
       "      <td>36 months</td>\n",
       "      <td>23.4</td>\n",
       "      <td>$194.60</td>\n",
       "      <td>E1</td>\n",
       "      <td>Sales</td>\n",
       "      <td>7 years</td>\n",
       "      <td>$120,000.00</td>\n",
       "      <td>18-Jul</td>\n",
       "      <td>True</td>\n",
       "      <td>10000.00</td>\n",
       "      <td>other</td>\n",
       "      <td>56</td>\n",
       "    </tr>\n",
       "    <tr>\n",
       "      <th>3</th>\n",
       "      <td>5500.0</td>\n",
       "      <td>36 months</td>\n",
       "      <td>14.47</td>\n",
       "      <td>$189.24</td>\n",
       "      <td>C2</td>\n",
       "      <td>other</td>\n",
       "      <td>NaN</td>\n",
       "      <td>$26,300.00</td>\n",
       "      <td>18-Dec</td>\n",
       "      <td>False</td>\n",
       "      <td>2191.67</td>\n",
       "      <td>other</td>\n",
       "      <td>20</td>\n",
       "    </tr>\n",
       "    <tr>\n",
       "      <th>4</th>\n",
       "      <td>11200.0</td>\n",
       "      <td>60 months</td>\n",
       "      <td>16.14</td>\n",
       "      <td>$273.20</td>\n",
       "      <td>C4</td>\n",
       "      <td>Engeneering</td>\n",
       "      <td>1 year</td>\n",
       "      <td>$35,000.00</td>\n",
       "      <td>18-Aug</td>\n",
       "      <td>True</td>\n",
       "      <td>2916.67</td>\n",
       "      <td>other</td>\n",
       "      <td>23</td>\n",
       "    </tr>\n",
       "  </tbody>\n",
       "</table>\n",
       "</div>"
      ],
      "text/plain": [
       "   loan_amnt        term int_rate installment sub_grade  \\\n",
       "0     5000.0   36 months    13.56    $169.83         C1   \n",
       "1     4000.0   36 months     10.9    $130.77         B4   \n",
       "2     5000.0   36 months     23.4    $194.60         E1   \n",
       "3     5500.0   36 months    14.47    $189.24         C2   \n",
       "4    11200.0   60 months    16.14    $273.20         C4   \n",
       "\n",
       "                   emp_title emp_length     annual_inc issue_d  loan_status  \\\n",
       "0  Public Affairs Specialist  10+ years   $175,000.00   18-Aug        False   \n",
       "1            Reception/Sales     1 year    $25,000.00   18-Mar         True   \n",
       "2                      Sales    7 years   $120,000.00   18-Jul         True   \n",
       "3                      other        NaN    $26,300.00   18-Dec        False   \n",
       "4                Engeneering     1 year    $35,000.00   18-Aug         True   \n",
       "\n",
       "   monthly_income emp_industry  age  \n",
       "0        14583.33        other   33  \n",
       "1         2083.33        other   21  \n",
       "2        10000.00        other   56  \n",
       "3         2191.67        other   20  \n",
       "4         2916.67        other   23  "
      ]
     },
     "execution_count": 204,
     "metadata": {},
     "output_type": "execute_result"
    }
   ],
   "source": [
    "data.head()"
   ]
  },
  {
   "cell_type": "code",
   "execution_count": 205,
   "id": "03d34c05-ae59-4d3b-ba57-47882510c67d",
   "metadata": {
    "tags": []
   },
   "outputs": [
    {
     "data": {
      "text/plain": [
       "loan_amnt         float64\n",
       "term               object\n",
       "int_rate           object\n",
       "installment        object\n",
       "sub_grade          object\n",
       "emp_title          object\n",
       "emp_length         object\n",
       "annual_inc         object\n",
       "issue_d            object\n",
       "loan_status          bool\n",
       "monthly_income    float64\n",
       "emp_industry       object\n",
       "age                 int64\n",
       "dtype: object"
      ]
     },
     "execution_count": 205,
     "metadata": {},
     "output_type": "execute_result"
    }
   ],
   "source": [
    "data.dtypes"
   ]
  },
  {
   "cell_type": "code",
   "execution_count": null,
   "id": "f4bf5703-db69-47ce-be69-1ba645dd3af9",
   "metadata": {
    "tags": []
   },
   "outputs": [],
   "source": [
    "# income_str = data[\"monthly_income\"].str.replace(\"$\", \"\").str.replace(\",\", \"\").str.replace(\"unknown\", \"0\").str.replace(\"-\", \"\").str.replace(\" \", \"\")\n",
    "# income_str"
   ]
  },
  {
   "cell_type": "code",
   "execution_count": null,
   "id": "80aaa7f5-9910-4dc4-bf95-e972f8731340",
   "metadata": {
    "tags": []
   },
   "outputs": [],
   "source": [
    "# income_str.astype(float)"
   ]
  },
  {
   "cell_type": "code",
   "execution_count": null,
   "id": "87045356-e64d-4278-bc21-10f8cfe82cf3",
   "metadata": {
    "tags": []
   },
   "outputs": [],
   "source": [
    "# income_str[income_str==''] = 0"
   ]
  },
  {
   "cell_type": "code",
   "execution_count": null,
   "id": "a30c2579-ae8e-421c-981e-1f48432dc1e2",
   "metadata": {
    "tags": []
   },
   "outputs": [],
   "source": [
    "# data[\"monthly_income\"] = income_str\n",
    "# data.head()"
   ]
  },
  {
   "cell_type": "code",
   "execution_count": 209,
   "id": "85beae23-25ca-45e2-90a9-5e4250f8cf6a",
   "metadata": {
    "tags": []
   },
   "outputs": [
    {
     "data": {
      "image/png": "[encoded data removed]",
      "text/plain": [
       "<Figure size 640x480 with 1 Axes>"
      ]
     },
     "metadata": {},
     "output_type": "display_data"
    }
   ],
   "source": [
    "plt.hist(data[\"monthly_income\"], bins=50)\n",
    "plt.show()"
   ]
  },
  {
   "cell_type": "code",
   "execution_count": 213,
   "id": "e3f069aa-4c6f-4990-b15d-0ac8a127e3b1",
   "metadata": {
    "tags": []
   },
   "outputs": [
    {
     "data": {
      "text/plain": [
       "0        14583.33\n",
       "1         2083.33\n",
       "2        10000.00\n",
       "3         2191.67\n",
       "4         2916.67\n",
       "           ...   \n",
       "49519     6666.67\n",
       "49520     4000.00\n",
       "49521     3500.00\n",
       "49522     8000.00\n",
       "49523     2083.33\n",
       "Name: monthly_income, Length: 49443, dtype: float64"
      ]
     },
     "execution_count": 213,
     "metadata": {},
     "output_type": "execute_result"
    }
   ],
   "source": [
    "filterd_income = data[\"monthly_income\"][data[\"monthly_income\"]<50_000]\n",
    "filterd_income"
   ]
  },
  {
   "cell_type": "code",
   "execution_count": 214,
   "id": "d72234cf-60c1-4210-a367-e4220ba31268",
   "metadata": {
    "tags": []
   },
   "outputs": [
    {
     "data": {
      "image/png": "[encoded data removed]",
      "text/plain": [
       "<Figure size 640x480 with 1 Axes>"
      ]
     },
     "metadata": {},
     "output_type": "display_data"
    }
   ],
   "source": [
    "plt.hist(filterd_income)\n",
    "plt.show()"
   ]
  },
  {
   "cell_type": "markdown",
   "id": "568e909d-474a-4fdb-b92b-5760e267619b",
   "metadata": {},
   "source": [
    "### What is the range of loan amount which is likely to approve?"
   ]
  },
  {
   "cell_type": "code",
   "execution_count": 221,
   "id": "3c16dfdc-cbb9-4675-826d-2097a45cfb0b",
   "metadata": {
    "tags": []
   },
   "outputs": [
    {
     "data": {
      "image/png": "[encoded data removed]",
      "text/plain": [
       "<Figure size 640x480 with 1 Axes>"
      ]
     },
     "metadata": {},
     "output_type": "display_data"
    }
   ],
   "source": [
    "plt.hist(data[data[\"loan_status\"] == True][\"loan_amnt\"])\n",
    "plt.show()"
   ]
  },
  {
   "cell_type": "code",
   "execution_count": 226,
   "id": "4303db81-8701-4d1d-8629-47d079b06b80",
   "metadata": {
    "tags": []
   },
   "outputs": [
    {
     "data": {
      "image/png": "[encoded data removed]",
      "text/plain": [
       "<Figure size 640x480 with 1 Axes>"
      ]
     },
     "metadata": {},
     "output_type": "display_data"
    }
   ],
   "source": [
    "fig, ax = plt.subplots()\n",
    "plt.hist(data[data[\"loan_status\"] == False][\"loan_amnt\"], label=\"Rejected\")\n",
    "plt.hist(data[data[\"loan_status\"] == True][\"loan_amnt\"], label=\"Approved\")\n",
    "\n",
    "ax.legend()\n",
    "plt.show()"
   ]
  },
  {
   "cell_type": "code",
   "execution_count": 230,
   "id": "26464219-3f82-4249-9550-071d8570a486",
   "metadata": {
    "tags": []
   },
   "outputs": [
    {
     "data": {
      "image/png": "[encoded data removed]",
      "text/plain": [
       "<Figure size 640x480 with 1 Axes>"
      ]
     },
     "metadata": {},
     "output_type": "display_data"
    }
   ],
   "source": [
    "sns.histplot(data, x= data[\"loan_amnt\"], hue='loan_status', bins=10)\n",
    "plt.show()"
   ]
  },
  {
   "cell_type": "markdown",
   "id": "87c33444-12c4-4a19-98ab-92a9ed975dbf",
   "metadata": {},
   "source": [
    "### Which grade applied loan the most?"
   ]
  },
  {
   "cell_type": "code",
   "execution_count": 238,
   "id": "181b8deb-591b-4b3d-9838-6b5839825a1c",
   "metadata": {
    "tags": []
   },
   "outputs": [],
   "source": [
    "data[\"grade\"] = data[\"sub_grade\"].str[0]"
   ]
  },
  {
   "cell_type": "code",
   "execution_count": 247,
   "id": "66550191-8ffc-4756-9657-304eb49f7a32",
   "metadata": {
    "tags": []
   },
   "outputs": [
    {
     "data": {
      "image/png": "[encoded data removed]",
      "text/plain": [
       "<Figure size 640x480 with 1 Axes>"
      ]
     },
     "metadata": {},
     "output_type": "display_data"
    }
   ],
   "source": [
    "sns.countplot(data, x=\"grade\", hue=\"loan_status\")\n",
    "plt.show()"
   ]
  },
  {
   "cell_type": "code",
   "execution_count": 251,
   "id": "9fa2a2e6-b9eb-460f-aeeb-2648bc09a519",
   "metadata": {
    "tags": []
   },
   "outputs": [
    {
     "data": {
      "image/png": "[encoded data removed]",
      "text/plain": [
       "<Figure size 640x480 with 1 Axes>"
      ]
     },
     "metadata": {},
     "output_type": "display_data"
    }
   ],
   "source": [
    "sns.barplot(data, x=\"grade\", y=\"loan_amnt\", hue=\"loan_status\", estimator =sum)\n",
    "plt.show()"
   ]
  },
  {
   "cell_type": "markdown",
   "id": "531a9618-66d1-4b89-99ce-10aceed734c4",
   "metadata": {},
   "source": [
    "### Does emp_length impact loan amount or loan interests?"
   ]
  },
  {
   "cell_type": "code",
   "execution_count": 254,
   "id": "44e4663f-1efe-46df-b095-218c1bb19f3f",
   "metadata": {
    "tags": []
   },
   "outputs": [
    {
     "data": {
      "text/plain": [
       "array(['10+ years', '1 year', '7 years', nan, '8 years', '< 1 year',\n",
       "       '2 years', '4 years', '3 years', '5 years', '6 years', '9 years'],\n",
       "      dtype=object)"
      ]
     },
     "execution_count": 254,
     "metadata": {},
     "output_type": "execute_result"
    }
   ],
   "source": [
    "data[\"emp_length\"].unique()"
   ]
  },
  {
   "cell_type": "code",
   "execution_count": 258,
   "id": "b668fbf3-1e58-4645-93fb-0f682c3811ca",
   "metadata": {
    "tags": []
   },
   "outputs": [],
   "source": [
    "emp_length = data[\"emp_length\"].str.replace(\"year\", \"\").str.replace(\"s\", \"\")"
   ]
  },
  {
   "cell_type": "code",
   "execution_count": 265,
   "id": "f598357d-5ea7-4a29-b9a0-02d0ca637651",
   "metadata": {
    "tags": []
   },
   "outputs": [
    {
     "data": {
      "text/plain": [
       "0        10+ \n",
       "1          1 \n",
       "2          7 \n",
       "3         NaN\n",
       "4          1 \n",
       "         ... \n",
       "49519    < 1 \n",
       "49520    10+ \n",
       "49521      2 \n",
       "49522    10+ \n",
       "49523      4 \n",
       "Name: emp_length, Length: 49524, dtype: object"
      ]
     },
     "execution_count": 265,
     "metadata": {},
     "output_type": "execute_result"
    }
   ],
   "source": [
    "emp_length"
   ]
  },
  {
   "cell_type": "code",
   "execution_count": 274,
   "id": "fba97944-ac46-43bb-b329-8775b8fbeee7",
   "metadata": {
    "tags": []
   },
   "outputs": [],
   "source": [
    "def clean_emp_length(v):\n",
    "    try:\n",
    "        if v is np.nan:\n",
    "            v = \"0\"\n",
    "        cleaned = v.replace(\"+\", \"\").replace(\"<\", \"\")\n",
    "    except Exception as e:\n",
    "        print(f\"Origin value: {v}\")\n",
    "        print(e)\n",
    "\n",
    "    if \"+\" in v:\n",
    "        cleaned = float(cleaned) + 1\n",
    "    elif \"<\" in v:\n",
    "        cleaned = float(cleaned) - 1\n",
    "    else:\n",
    "        cleaned = float(cleaned)\n",
    "    return cleaned\n",
    "\n",
    "emp_length = emp_length.apply(clean_emp_length)"
   ]
  },
  {
   "cell_type": "code",
   "execution_count": 275,
   "id": "755498ac-f899-4bd8-ac70-9248bc38b082",
   "metadata": {
    "tags": []
   },
   "outputs": [
    {
     "data": {
      "text/plain": [
       "0        11.0\n",
       "1         1.0\n",
       "2         7.0\n",
       "3         0.0\n",
       "4         1.0\n",
       "         ... \n",
       "49519     0.0\n",
       "49520    11.0\n",
       "49521     2.0\n",
       "49522    11.0\n",
       "49523     4.0\n",
       "Name: emp_length, Length: 49524, dtype: float64"
      ]
     },
     "execution_count": 275,
     "metadata": {},
     "output_type": "execute_result"
    }
   ],
   "source": [
    "emp_length"
   ]
  },
  {
   "cell_type": "code",
   "execution_count": 276,
   "id": "003cd841-d481-44cb-a353-c923107c53fb",
   "metadata": {
    "tags": []
   },
   "outputs": [],
   "source": [
    "data[\"emp_length\"] = emp_length"
   ]
  },
  {
   "cell_type": "code",
   "execution_count": 277,
   "id": "aff633d6-fdd6-444e-8fe6-8e4dff5b1a54",
   "metadata": {
    "tags": []
   },
   "outputs": [
    {
     "data": {
      "text/plain": [
       "loan_amnt         float64\n",
       "term               object\n",
       "int_rate           object\n",
       "installment        object\n",
       "sub_grade          object\n",
       "emp_title          object\n",
       "emp_length        float64\n",
       "annual_inc         object\n",
       "issue_d            object\n",
       "loan_status          bool\n",
       "monthly_income    float64\n",
       "emp_industry       object\n",
       "age                 int64\n",
       "grade              object\n",
       "dtype: object"
      ]
     },
     "execution_count": 277,
     "metadata": {},
     "output_type": "execute_result"
    }
   ],
   "source": [
    "data.dtypes"
   ]
  },
  {
   "cell_type": "code",
   "execution_count": 278,
   "id": "0665e557-787a-4fc9-889a-d5c29709d52f",
   "metadata": {
    "tags": []
   },
   "outputs": [
    {
     "data": {
      "image/png": "[encoded data removed]",
      "text/plain": [
       "<Figure size 640x480 with 1 Axes>"
      ]
     },
     "metadata": {},
     "output_type": "display_data"
    }
   ],
   "source": [
    "plt.hist(emp_length)\n",
    "plt.show()"
   ]
  },
  {
   "cell_type": "code",
   "execution_count": 281,
   "id": "aeeb566f-ff86-41ee-bd7c-49d39cde8caa",
   "metadata": {
    "tags": []
   },
   "outputs": [
    {
     "data": {
      "text/plain": [
       "<Axes: xlabel='emp_length', ylabel='Count'>"
      ]
     },
     "execution_count": 281,
     "metadata": {},
     "output_type": "execute_result"
    },
    {
     "data": {
      "image/png": "[encoded data removed]",
      "text/plain": [
       "<Figure size 640x480 with 1 Axes>"
      ]
     },
     "metadata": {},
     "output_type": "display_data"
    }
   ],
   "source": [
    "sns.histplot(data, x=\"emp_length\", hue=\"loan_status\", bins=3)"
   ]
  },
  {
   "cell_type": "code",
   "execution_count": null,
   "id": "77b3d8ad-6386-4244-a94e-55bbac8c7b36",
   "metadata": {},
   "outputs": [],
   "source": []
  }
 ],
 "metadata": {
  "kernelspec": {
   "display_name": "Python 3 (ipykernel)",
   "language": "python",
   "name": "python3"
  },
  "language_info": {
   "codemirror_mode": {
    "name": "ipython",
    "version": 3
   },
   "file_extension": ".py",
   "mimetype": "text/x-python",
   "name": "python",
   "nbconvert_exporter": "python",
   "pygments_lexer": "ipython3",
   "version": "3.11.3"
  },
  "toc-autonumbering": true
 },
 "nbformat": 4,
 "nbformat_minor": 5
}
