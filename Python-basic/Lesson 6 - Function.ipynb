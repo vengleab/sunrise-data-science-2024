{
 "cells": [
  {
   "cell_type": "code",
   "execution_count": 1,
   "id": "adae5d78-0cb6-44d3-90a3-28dab80f21b1",
   "metadata": {
    "tags": []
   },
   "outputs": [
    {
     "name": "stdout",
     "output_type": "stream",
     "text": [
      "Width: 10\n",
      "Height: 5\n",
      "total area: 50\n"
     ]
    }
   ],
   "source": [
    "def calculate_area(w, h):\n",
    "    print(f\"Width: {w}\")\n",
    "    print(f\"Height: {h}\")\n",
    "    return w*h\n",
    "\n",
    "area = calculate_area(10, 5)\n",
    "print(f\"total area: {area}\")"
   ]
  },
  {
   "cell_type": "code",
   "execution_count": 3,
   "id": "c2e7f83c-f8cb-4773-9202-3441bd5092ec",
   "metadata": {
    "tags": []
   },
   "outputs": [
    {
     "name": "stdout",
     "output_type": "stream",
     "text": [
      "Width: 200\n",
      "Height: 20\n",
      "total area: 4000\n"
     ]
    }
   ],
   "source": [
    "area = calculate_area(200, 20)\n",
    "print(f\"total area: {area}\")"
   ]
  },
  {
   "cell_type": "code",
   "execution_count": 6,
   "id": "07cd60c5-210e-4ffc-9930-ca962ea401f9",
   "metadata": {
    "tags": []
   },
   "outputs": [
    {
     "data": {
      "text/plain": [
       "12000000"
      ]
     },
     "execution_count": 6,
     "metadata": {},
     "output_type": "execute_result"
    }
   ],
   "source": [
    "house = area * 3000\n",
    "house"
   ]
  },
  {
   "cell_type": "code",
   "execution_count": 5,
   "id": "3f8ebf2f-ab78-44de-afe1-07297c05ae0d",
   "metadata": {
    "tags": []
   },
   "outputs": [
    {
     "name": "stdout",
     "output_type": "stream",
     "text": [
      "Width: 10\n",
      "Height: 5\n",
      "Total Area: 50\n",
      "Width: 200\n",
      "Height: 10\n",
      "Total Area: 2000\n"
     ]
    }
   ],
   "source": [
    "def calculate_area_no_return(w, h):\n",
    "    print(f\"Width: {w}\")\n",
    "    print(f\"Height: {h}\")\n",
    "    print(f\"Total Area: {w*h}\") \n",
    "\n",
    "calculate_area_no_return(10, 5)\n",
    "calculate_area_no_return(200, 10)"
   ]
  },
  {
   "cell_type": "code",
   "execution_count": 7,
   "id": "3c8fe93d-88d8-4768-ab1d-b48c3c3eb2c2",
   "metadata": {
    "tags": []
   },
   "outputs": [
    {
     "name": "stdout",
     "output_type": "stream",
     "text": [
      "Hello world\n",
      "Hello world\n"
     ]
    }
   ],
   "source": [
    "def print_hello():\n",
    "    print(\"Hello world\")\n",
    "    \n",
    "print_hello() # invoke/call/trigger function\n",
    "print_hello()"
   ]
  },
  {
   "cell_type": "code",
   "execution_count": 9,
   "id": "24ee3450-94fa-48c2-8ec5-5912dfb89bc2",
   "metadata": {
    "tags": []
   },
   "outputs": [
    {
     "data": {
      "text/plain": [
       "<function __main__.print_hello()>"
      ]
     },
     "execution_count": 9,
     "metadata": {},
     "output_type": "execute_result"
    }
   ],
   "source": [
    "print_hello"
   ]
  },
  {
   "cell_type": "code",
   "execution_count": 11,
   "id": "d898d033-29b9-447d-824f-887b082b67ff",
   "metadata": {
    "tags": []
   },
   "outputs": [
    {
     "data": {
      "text/plain": [
       "<function __main__.get_hello_world()>"
      ]
     },
     "execution_count": 11,
     "metadata": {},
     "output_type": "execute_result"
    }
   ],
   "source": [
    "def get_hello_world():\n",
    "    \"\"\"\n",
    "    Get string of hello world\n",
    "    \"\"\"\n",
    "    return \"hello\", \"world\"\n",
    "\n",
    "get_hello_world"
   ]
  },
  {
   "cell_type": "code",
   "execution_count": 12,
   "id": "0bee7a91-9454-4d3f-90b8-79fbc7f3b92d",
   "metadata": {
    "tags": []
   },
   "outputs": [
    {
     "name": "stdout",
     "output_type": "stream",
     "text": [
      "Help on built-in function print in module builtins:\n",
      "\n",
      "print(*args, sep=' ', end='\\n', file=None, flush=False)\n",
      "    Prints the values to a stream, or to sys.stdout by default.\n",
      "    \n",
      "    sep\n",
      "      string inserted between values, default a space.\n",
      "    end\n",
      "      string appended after the last value, default a newline.\n",
      "    file\n",
      "      a file-like object (stream); defaults to the current sys.stdout.\n",
      "    flush\n",
      "      whether to forcibly flush the stream.\n",
      "\n"
     ]
    }
   ],
   "source": [
    "help(print)"
   ]
  },
  {
   "cell_type": "code",
   "execution_count": 32,
   "id": "d2272463-663a-4806-adb8-bdbb35781394",
   "metadata": {
    "tags": []
   },
   "outputs": [
    {
     "data": {
      "text/plain": [
       "[{'id': 1, 'name': 'J'}, {'id': 10, 'name': 'J'}, {'id': 2, 'name': 'M'}]"
      ]
     },
     "execution_count": 32,
     "metadata": {},
     "output_type": "execute_result"
    }
   ],
   "source": [
    "lst = [\n",
    "    {\"id\": 1, \"name\": \"J\"},\n",
    "    {\"id\": 10, \"name\": \"J\"},\n",
    "    {\"id\": 2, \"name\": \"M\"}\n",
    "]\n",
    "\n",
    "def get_key(ele):\n",
    "    return ele[\"name\"], ele[\"id\"]\n",
    "\n",
    "sorted(lst, key=get_key)"
   ]
  },
  {
   "cell_type": "code",
   "execution_count": 29,
   "id": "25ffd241-124a-4e32-9297-dde3b6e4ebb7",
   "metadata": {
    "tags": []
   },
   "outputs": [
    {
     "data": {
      "text/plain": [
       "[{'id': 1, 'name': 'John'}]"
      ]
     },
     "execution_count": 29,
     "metadata": {},
     "output_type": "execute_result"
    }
   ],
   "source": [
    "def first_5(stu):\n",
    "    return stu[\"id\"]==1\n",
    "\n",
    "list(filter(first_5, lst) )"
   ]
  },
  {
   "cell_type": "code",
   "execution_count": 33,
   "id": "696798f5-3ded-458c-8b29-e55476faa9c6",
   "metadata": {
    "tags": []
   },
   "outputs": [
    {
     "data": {
      "text/plain": [
       "True"
      ]
     },
     "execution_count": 33,
     "metadata": {},
     "output_type": "execute_result"
    }
   ],
   "source": [
    "def is_event(num):\n",
    "    return num % 2 ==0\n",
    "\n",
    "\n",
    "is_event(10)"
   ]
  },
  {
   "cell_type": "code",
   "execution_count": 38,
   "id": "814c6571-0601-4605-815a-6f39b825096a",
   "metadata": {
    "tags": []
   },
   "outputs": [
    {
     "data": {
      "text/plain": [
       "[2, 4, 6, 8]"
      ]
     },
     "execution_count": 38,
     "metadata": {},
     "output_type": "execute_result"
    }
   ],
   "source": [
    "lst = [1,2,3,4,5,6,7,8,9]\n",
    "event_numbers = list(filter(is_event, lst))\n",
    "event_numbers"
   ]
  },
  {
   "cell_type": "code",
   "execution_count": 37,
   "id": "58d0535f-bb10-4671-8796-4d4ca4e2d625",
   "metadata": {
    "tags": []
   },
   "outputs": [
    {
     "data": {
      "text/plain": [
       "[1, 3, 5, 7, 9]"
      ]
     },
     "execution_count": 37,
     "metadata": {},
     "output_type": "execute_result"
    }
   ],
   "source": [
    "list(filter(lambda num: num%2!=0, lst))"
   ]
  },
  {
   "cell_type": "code",
   "execution_count": 42,
   "id": "115568bf-41e8-4475-9ab3-4a99ae18fe9d",
   "metadata": {
    "tags": []
   },
   "outputs": [],
   "source": [
    "is_odd = lambda num: num%2!=0"
   ]
  },
  {
   "cell_type": "code",
   "execution_count": 40,
   "id": "e2f43177-3885-4822-b871-aed94ad66efc",
   "metadata": {
    "tags": []
   },
   "outputs": [
    {
     "data": {
      "text/plain": [
       "False"
      ]
     },
     "execution_count": 40,
     "metadata": {},
     "output_type": "execute_result"
    }
   ],
   "source": [
    "is_odd(10)"
   ]
  },
  {
   "cell_type": "code",
   "execution_count": null,
   "id": "95421be0-238c-4286-835d-38e6e83382db",
   "metadata": {},
   "outputs": [],
   "source": []
  }
 ],
 "metadata": {
  "kernelspec": {
   "display_name": "Python 3 (ipykernel)",
   "language": "python",
   "name": "python3"
  },
  "language_info": {
   "codemirror_mode": {
    "name": "ipython",
    "version": 3
   },
   "file_extension": ".py",
   "mimetype": "text/x-python",
   "name": "python",
   "nbconvert_exporter": "python",
   "pygments_lexer": "ipython3",
   "version": "3.11.3"
  }
 },
 "nbformat": 4,
 "nbformat_minor": 5
}
