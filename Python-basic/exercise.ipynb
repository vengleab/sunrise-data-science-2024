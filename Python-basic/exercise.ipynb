{
 "cells": [
  {
   "cell_type": "markdown",
   "id": "ded63658-9cf5-4a1b-8b23-66f783ca29d6",
   "metadata": {
    "tags": []
   },
   "source": [
    "# Excerise 1"
   ]
  },
  {
   "cell_type": "code",
   "execution_count": 1,
   "id": "91114c31-0829-42f4-81ea-69cc85538fb8",
   "metadata": {
    "tags": []
   },
   "outputs": [
    {
     "ename": "SyntaxError",
     "evalue": "incomplete input (1647630127.py, line 1)",
     "output_type": "error",
     "traceback": [
      "\u001b[1;36m  Cell \u001b[1;32mIn[1], line 1\u001b[1;36m\u001b[0m\n\u001b[1;33m    print(\"Hello\"\u001b[0m\n\u001b[1;37m                 ^\u001b[0m\n\u001b[1;31mSyntaxError\u001b[0m\u001b[1;31m:\u001b[0m incomplete input\n"
     ]
    }
   ],
   "source": [
    "print(\"Hello\""
   ]
  },
  {
   "cell_type": "code",
   "execution_count": 2,
   "id": "b2fc5f82-ad13-4424-a722-b9152214e385",
   "metadata": {
    "tags": []
   },
   "outputs": [
    {
     "ename": "SyntaxError",
     "evalue": "Missing parentheses in call to 'print'. Did you mean print(...)? (888425938.py, line 1)",
     "output_type": "error",
     "traceback": [
      "\u001b[1;36m  Cell \u001b[1;32mIn[2], line 1\u001b[1;36m\u001b[0m\n\u001b[1;33m    print\"Hello\"\u001b[0m\n\u001b[1;37m    ^\u001b[0m\n\u001b[1;31mSyntaxError\u001b[0m\u001b[1;31m:\u001b[0m Missing parentheses in call to 'print'. Did you mean print(...)?\n"
     ]
    }
   ],
   "source": [
    "print\"Hello\""
   ]
  },
  {
   "cell_type": "code",
   "execution_count": 3,
   "id": "ec7ce4c8-6b4a-49d8-93ad-d19a5b5fee53",
   "metadata": {
    "tags": []
   },
   "outputs": [
    {
     "data": {
      "text/plain": [
       "-2"
      ]
     },
     "execution_count": 3,
     "metadata": {},
     "output_type": "execute_result"
    }
   ],
   "source": [
    "-2"
   ]
  },
  {
   "cell_type": "code",
   "execution_count": 4,
   "id": "14ecf899-b283-4f90-bb19-456cbe64e4ed",
   "metadata": {
    "tags": []
   },
   "outputs": [
    {
     "data": {
      "text/plain": [
       "2"
      ]
     },
     "execution_count": 4,
     "metadata": {},
     "output_type": "execute_result"
    }
   ],
   "source": [
    "+2"
   ]
  },
  {
   "cell_type": "code",
   "execution_count": 6,
   "id": "ff04a07f-d664-4845-8706-b5750d021d65",
   "metadata": {
    "tags": []
   },
   "outputs": [
    {
     "data": {
      "text/plain": [
       "4"
      ]
     },
     "execution_count": 6,
     "metadata": {},
     "output_type": "execute_result"
    }
   ],
   "source": [
    "2++2"
   ]
  },
  {
   "cell_type": "markdown",
   "id": "dd5325f9-968f-4fb8-bc40-0fe59f01bb95",
   "metadata": {},
   "source": [
    "## 1. Write a program that calculates the area of a rectangle. Prompt the user to enter the length and width of the rectangle as integers. Calculate the area using the formula area = length * width and print the result"
   ]
  },
  {
   "cell_type": "code",
   "execution_count": 7,
   "id": "6859879a-0996-4a44-b59e-18f7ff05a0e4",
   "metadata": {
    "tags": []
   },
   "outputs": [
    {
     "name": "stdin",
     "output_type": "stream",
     "text": [
      "Input length: 10\n",
      "Input Width: 15.5\n"
     ]
    },
    {
     "data": {
      "text/plain": [
       "155.0"
      ]
     },
     "execution_count": 7,
     "metadata": {},
     "output_type": "execute_result"
    }
   ],
   "source": [
    "length = input(\"Input length:\")\n",
    "width = input(\"Input Width:\")\n",
    "\n",
    "area = float(length) * float(width)\n",
    "area"
   ]
  },
  {
   "cell_type": "markdown",
   "id": "a15a33d4-0b77-4146-a024-a3eb26c4973f",
   "metadata": {},
   "source": [
    "## 2. Write a program that calculates the average of three numbers. Prompt the user to enter three numbers as integers. Calculate the average of 3 number. Display the average"
   ]
  },
  {
   "cell_type": "code",
   "execution_count": 9,
   "id": "b73531cc-716b-4182-ae32-d0a78e0346f8",
   "metadata": {
    "tags": []
   },
   "outputs": [
    {
     "name": "stdin",
     "output_type": "stream",
     "text": [
      "Input n1: 1\n",
      "Input n2: 1\n",
      "Input n3: 2\n"
     ]
    },
    {
     "data": {
      "text/plain": [
       "1.3333333333333333"
      ]
     },
     "execution_count": 9,
     "metadata": {},
     "output_type": "execute_result"
    }
   ],
   "source": [
    "n1 = int(input(\"Input n1:\"))\n",
    "n2 = int(input(\"Input n2:\"))\n",
    "n3 = int(input(\"Input n3:\"))\n",
    "\n",
    "average = (n1+n2+n3)/3\n",
    "average"
   ]
  },
  {
   "cell_type": "markdown",
   "id": "a0c90660-481f-49a5-9df0-1963530af40e",
   "metadata": {},
   "source": [
    "## 3. Create a program that swaps the values of two variables. Prompt the user to enter two numbers as integers. Print the values before and after the swap"
   ]
  },
  {
   "cell_type": "code",
   "execution_count": 15,
   "id": "bbb030b3-af21-48f2-9b47-e3948e468699",
   "metadata": {
    "tags": []
   },
   "outputs": [
    {
     "name": "stdin",
     "output_type": "stream",
     "text": [
      "Input n1: 10\n",
      "Input n2: 5\n"
     ]
    },
    {
     "data": {
      "text/plain": [
       "(10, 5)"
      ]
     },
     "execution_count": 15,
     "metadata": {},
     "output_type": "execute_result"
    }
   ],
   "source": [
    "n1 = int(input(\"Input n1:\"))\n",
    "n2 = int(input(\"Input n2:\"))\n",
    "\n",
    "n1,n2"
   ]
  },
  {
   "cell_type": "code",
   "execution_count": 14,
   "id": "605b6b6c-1b63-46ec-b657-e07ad1c0973b",
   "metadata": {
    "tags": []
   },
   "outputs": [
    {
     "data": {
      "text/plain": [
       "(10, 5)"
      ]
     },
     "execution_count": 14,
     "metadata": {},
     "output_type": "execute_result"
    }
   ],
   "source": [
    "tem = n1\n",
    "n1 = n2\n",
    "n2 = tem\n",
    "\n",
    "n1,n2"
   ]
  },
  {
   "cell_type": "code",
   "execution_count": 16,
   "id": "0aaf737f-01c0-49fd-9e59-9cd7f322323f",
   "metadata": {
    "tags": []
   },
   "outputs": [
    {
     "data": {
      "text/plain": [
       "(5, 10)"
      ]
     },
     "execution_count": 16,
     "metadata": {},
     "output_type": "execute_result"
    }
   ],
   "source": [
    "n1, n2 = n2, n1\n",
    "n1, n2"
   ]
  },
  {
   "cell_type": "markdown",
   "id": "04a8a84f-8fa4-4638-ba71-6e5906456233",
   "metadata": {},
   "source": [
    "## 1. Suppose the price of a book is $24.95, it get a 40% discount, how much is it?"
   ]
  },
  {
   "cell_type": "code",
   "execution_count": 17,
   "id": "5df8dc6a-af3a-4580-89d7-e15848c9a450",
   "metadata": {
    "tags": []
   },
   "outputs": [
    {
     "data": {
      "text/plain": [
       "14.969999999999999"
      ]
     },
     "execution_count": 17,
     "metadata": {},
     "output_type": "execute_result"
    }
   ],
   "source": [
    "book = 24.95\n",
    "after_discount = 24.95 - 24.95*0.4\n",
    "after_discount"
   ]
  },
  {
   "cell_type": "code",
   "execution_count": 18,
   "id": "a3ea55b4-5eea-4656-80da-6dfe99db2e40",
   "metadata": {
    "tags": []
   },
   "outputs": [
    {
     "data": {
      "text/plain": [
       "14.969999999999999"
      ]
     },
     "execution_count": 18,
     "metadata": {},
     "output_type": "execute_result"
    }
   ],
   "source": [
    "book = 24.95\n",
    "after_discount = 24.95 * (1-0.4)\n",
    "after_discount"
   ]
  },
  {
   "cell_type": "markdown",
   "id": "a8b285fd-2106-49aa-991d-ca9f08465781",
   "metadata": {},
   "source": [
    "## How many seconds are there in 42 minutes 42 seconds?\n"
   ]
  },
  {
   "cell_type": "code",
   "execution_count": 48,
   "id": "aa6886ff-4789-49fd-9489-ad0b78e2f4da",
   "metadata": {
    "tags": []
   },
   "outputs": [
    {
     "data": {
      "text/plain": [
       "2562"
      ]
     },
     "execution_count": 48,
     "metadata": {},
     "output_type": "execute_result"
    }
   ],
   "source": [
    "minute = 42\n",
    "second = 42\n",
    "\n",
    "total_sec = second+minute*60\n",
    "total_sec"
   ]
  },
  {
   "cell_type": "markdown",
   "id": "f39f8dde-0675-49cf-a47c-b0a83193e007",
   "metadata": {},
   "source": [
    "## 3. How many miles are there in 10 kilometers? Hint: there are 1.61 kilometers in a mile."
   ]
  },
  {
   "cell_type": "code",
   "execution_count": 20,
   "id": "59783e5b-a68f-4bf3-a182-9888e646582f",
   "metadata": {
    "tags": []
   },
   "outputs": [
    {
     "data": {
      "text/plain": [
       "6.211180124223602"
      ]
     },
     "execution_count": 20,
     "metadata": {},
     "output_type": "execute_result"
    }
   ],
   "source": [
    "total_km = 10\n",
    "total_mile = 10/1.61\n",
    "total_mile"
   ]
  },
  {
   "cell_type": "markdown",
   "id": "82ba42c9-1f54-4d9a-be8a-b2f45f5fbeff",
   "metadata": {},
   "source": [
    "## 4. If you run a 10 kilometer race in 42 minutes 42 seconds.  What is your average speed in kilometer per hour (km/h)?\n"
   ]
  },
  {
   "cell_type": "code",
   "execution_count": 21,
   "id": "aae5ac6a-20ce-47b7-89ac-2d11fc54737e",
   "metadata": {
    "tags": []
   },
   "outputs": [
    {
     "data": {
      "text/plain": [
       "0.7116666666666667"
      ]
     },
     "execution_count": 21,
     "metadata": {},
     "output_type": "execute_result"
    }
   ],
   "source": [
    "minute = 42\n",
    "second = 42\n",
    "\n",
    "total_sec = 42+42*60\n",
    "total_hour = total_sec / (60*60)\n",
    "total_hour"
   ]
  },
  {
   "cell_type": "code",
   "execution_count": 22,
   "id": "d5a551a9-3e56-4c50-8265-d6a3b4031a41",
   "metadata": {
    "tags": []
   },
   "outputs": [
    {
     "data": {
      "text/plain": [
       "14.05152224824356"
      ]
     },
     "execution_count": 22,
     "metadata": {},
     "output_type": "execute_result"
    }
   ],
   "source": [
    "total_km = 10\n",
    "total_km / total_hour"
   ]
  },
  {
   "cell_type": "markdown",
   "id": "b36a4b7e-a2b9-4943-81f8-053198f33eb1",
   "metadata": {},
   "source": [
    "# Excercise 2"
   ]
  },
  {
   "cell_type": "markdown",
   "id": "004a46a0-4e7f-4121-91c9-9ab3b2752152",
   "metadata": {
    "tags": []
   },
   "source": [
    "## 1. Age Verification System: Create a program that prompts the user for their age and checks if they are eligible to vote (voting age varies by country, so you can adjust the condition accordingly)\n"
   ]
  },
  {
   "cell_type": "code",
   "execution_count": 33,
   "id": "795ce86c-5025-46a6-8906-69b0946f0a99",
   "metadata": {
    "tags": []
   },
   "outputs": [
    {
     "name": "stdin",
     "output_type": "stream",
     "text": [
      "Input your age: 18\n",
      "Input your natioinality: cambodia\n"
     ]
    },
    {
     "name": "stdout",
     "output_type": "stream",
     "text": [
      "You are eligible to vote\n"
     ]
    }
   ],
   "source": [
    "age_limit = 18\n",
    "age = input(\"Input your age:\")\n",
    "nationality = input(\"Input your natioinality:\")\n",
    "if int(age) < age_limit or int(age) > 100 or nationality != 'cambodia' :\n",
    "    print(\"You are not eligible to vote\")\n",
    "else:\n",
    "    print(\"You are eligible to vote\")"
   ]
  },
  {
   "cell_type": "markdown",
   "id": "7fb562f1-66c0-46b2-b83a-b88a311ba0b3",
   "metadata": {},
   "source": [
    "## Online Shopping Discount Calculator: Let cashier input the purchase amount, Simulate an online store that offers a discount based on the purchase amount:\n",
    "\n",
    "* 10% discount if above 100\\$\n",
    "* 20% discount if above 500\\$\n",
    "* 50% discount if above 1000$\n"
   ]
  },
  {
   "cell_type": "code",
   "execution_count": 39,
   "id": "b01eeabb-add3-49a2-b49f-6cf13ed394b8",
   "metadata": {
    "tags": []
   },
   "outputs": [
    {
     "name": "stdin",
     "output_type": "stream",
     "text": [
      "Please enter total amount: 99\n"
     ]
    },
    {
     "data": {
      "text/plain": [
       "99"
      ]
     },
     "execution_count": 39,
     "metadata": {},
     "output_type": "execute_result"
    }
   ],
   "source": [
    "total = int(input(\"Please enter total amount:\"))\n",
    "after_dis = total\n",
    "if total > 100 and total <=500:\n",
    "    after_dis = total * (1-0.1)\n",
    "elif total > 500 and total <=1000:\n",
    "    after_dis = total * (1-0.2)\n",
    "elif total > 1000:\n",
    "    after_dis = total * (1-0.5)\n",
    "else:\n",
    "    after_dis = total\n",
    "\n",
    "after_dis"
   ]
  },
  {
   "cell_type": "code",
   "execution_count": 47,
   "id": "820f7c81-d727-4c50-8de5-af6eb52d3f9d",
   "metadata": {
    "tags": []
   },
   "outputs": [
    {
     "name": "stdin",
     "output_type": "stream",
     "text": [
      "Please enter total amount: 1000\n"
     ]
    },
    {
     "name": "stdout",
     "output_type": "stream",
     "text": [
      "You received: 20.0%, total: 800.0\n"
     ]
    }
   ],
   "source": [
    "total = int(input(\"Please enter total amount:\"))\n",
    "after_dis = total\n",
    "if total > 1000:\n",
    "    dis = 0.5\n",
    "elif total > 500:\n",
    "    dis = 0.2\n",
    "elif total > 100:\n",
    "    dis = 0.1\n",
    "else:\n",
    "    dis = 0\n",
    "    \n",
    "after_dis = total * (1-dis)\n",
    "\n",
    "print(f\"You received: {dis*100}%, total: {after_dis}\")"
   ]
  },
  {
   "cell_type": "code",
   "execution_count": 52,
   "id": "b66642bc-be83-45cd-b7af-3698e43f5ec7",
   "metadata": {
    "tags": []
   },
   "outputs": [
    {
     "name": "stdin",
     "output_type": "stream",
     "text": [
      "Please enter total amount: 1001\n"
     ]
    },
    {
     "name": "stdout",
     "output_type": "stream",
     "text": [
      "You received: 50.0%, total: 500.5\n"
     ]
    }
   ],
   "source": [
    "total = int(input(\"Please enter total amount:\"))\n",
    "after_dis = total\n",
    "if total <= 100:\n",
    "    dis = 0\n",
    "elif total <= 500:\n",
    "    dis = 0.1\n",
    "elif total <= 1000:\n",
    "    dis = 0.2\n",
    "else:\n",
    "    dis = 0.5\n",
    "    \n",
    "after_dis = total * (1-dis)\n",
    "\n",
    "print(f\"You received: {dis*100}%, total: {after_dis}\")"
   ]
  },
  {
   "cell_type": "markdown",
   "id": "7ac3e1ba-0923-4286-adcc-c55f4e1b2860",
   "metadata": {},
   "source": [
    "## 1. Write a program to calculate electricity with input total consumption. \n",
    "\n",
    "* From 0 to 50KW, price 1KW = 500 Riel\n",
    "* From 50 to 100KW, price 1KW = 620Riel\n",
    "* 100KW+, price 1kw = 750 Riel\n"
   ]
  },
  {
   "cell_type": "code",
   "execution_count": 62,
   "id": "9ed365ce-1554-49e2-9e44-a6312a5eba58",
   "metadata": {
    "tags": []
   },
   "outputs": [
    {
     "name": "stdin",
     "output_type": "stream",
     "text": [
      "Total Electricity consumption: 1000\n"
     ]
    },
    {
     "name": "stdout",
     "output_type": "stream",
     "text": [
      "Total Price: 750,000.00Riel\n"
     ]
    }
   ],
   "source": [
    "total_consumption = int(input(\"Total Electricity consumption:\"))\n",
    "\n",
    "if total_consumption <= 50:\n",
    "    cost = 500\n",
    "elif total_consumption <=100:\n",
    "    cost = 620\n",
    "else:\n",
    "    cost = 750\n",
    "\n",
    "print(\"Total Price: {:,.2f}Riel\".format(cost*total_consumption))"
   ]
  },
  {
   "cell_type": "markdown",
   "id": "763861c5-cbd7-4f38-a8df-3db7584ab773",
   "metadata": {},
   "source": [
    "## 2. Write a program to calculate net salary with input gross salary:\n",
    "* 0 to 1,500,000Riel, tax is 0%\n",
    "* 1,500,001 to 2,000,000, tax is 5%\n",
    "* 2,000,001 to 8,500,000, tax is 10%\n",
    "* 8,500,001 to 12,500,000, tax is 15%\n",
    "* Over 12,500,000, tax is 20%\n"
   ]
  },
  {
   "cell_type": "code",
   "execution_count": 79,
   "id": "eb0ca4ad-b0e3-4e73-bbe1-7d112fd80339",
   "metadata": {
    "tags": []
   },
   "outputs": [
    {
     "name": "stdin",
     "output_type": "stream",
     "text": [
      "Please input your total gross salary: 3000\n"
     ]
    },
    {
     "name": "stdout",
     "output_type": "stream",
     "text": [
      "Your tax is: 300.0 \n",
      "Your net salary is: 2700.0\n"
     ]
    }
   ],
   "source": [
    "total_gross = int(input(\"Please input your total gross salary:\")) * 4000\n",
    "\n",
    "if total_gross <= 1_500_000:\n",
    "    total_tax = 0\n",
    "elif total_gross <= 2_000_000:\n",
    "    total_tax = (total_gross - 1_500_000) * 0.05 \n",
    "elif total_gross <= 8_500_000:\n",
    "    total_tax = (total_gross - 2_000_000) * 0.10 + (2_000_000-1_500_000)*0.05\n",
    "elif total_gross <= 12_500_000:\n",
    "    total_tax = (total_gross - 8_500_000) * 0.15 +(8_500_000 - 2_000_000) * 0.10 + (2_000_000-1_500_000)*0.05\n",
    "elif total_gross > 12_500_000:\n",
    "    total_tax = (total_gross-12_500_000) * 0.2 + (12_500_000 - 8_500_000)*0.15 +(8_500_000 - 2_000_000) * 0.10 + (2_000_000-1_500_000)*0.05\n",
    "\n",
    "print(f\"Your tax is: {total_tax/4000} \\nYour net salary is: {(total_gross - total_tax) / 4000}\")"
   ]
  },
  {
   "cell_type": "markdown",
   "id": "92871528-80de-45b2-9c64-20cc8b2acd40",
   "metadata": {
    "tags": []
   },
   "source": [
    "# Excerise 3"
   ]
  },
  {
   "cell_type": "markdown",
   "id": "da44857b-a606-478b-8cb4-78466b290446",
   "metadata": {},
   "source": [
    "# 1.\n",
    "movies = [\n",
    "    {\n",
    "        \"title\": \"The Shawshank Redemption\",\n",
    "        \"director\": \"Frank Darabont\",\n",
    "        \"year\": 1994,\n",
    "        \"genre\": \"Drama\"\n",
    "    },\n",
    "    {\n",
    "        \"title\": \"The Godfather\",\n",
    "        \"director\": \"Francis Ford Coppola\",\n",
    "        \"year\": 1972,\n",
    "        \"genre\": [\"Crime\", \"Drama\"]  # You can store genres as a list here\n",
    "    },\n",
    "]\n",
    "\n",
    "Write a few functions to:\n",
    "* Add a new movie to your collection (consider using appropriate data structures).\n",
    "* Search for movies by title or director.\n",
    "* Filter movies based on genre or year of release.\n",
    "* Display movie information in a user-friendly format\n",
    "\n"
   ]
  },
  {
   "cell_type": "code",
   "execution_count": 112,
   "id": "2e58c059-c0ae-4696-8f59-93ed44326769",
   "metadata": {
    "tags": []
   },
   "outputs": [
    {
     "data": {
      "text/plain": [
       "[{'title': 'The Shawshank Redemption',\n",
       "  'director': 'Frank Darabont',\n",
       "  'year': 1994,\n",
       "  'genre': ['Drama']},\n",
       " {'title': 'The Godfather',\n",
       "  'director': 'Francis Ford Coppola',\n",
       "  'year': 1972,\n",
       "  'genre': ['Crime', 'Drama']}]"
      ]
     },
     "execution_count": 112,
     "metadata": {},
     "output_type": "execute_result"
    }
   ],
   "source": [
    "movies = [\n",
    "    {\n",
    "        \"title\": \"The Shawshank Redemption\",\n",
    "        \"director\": \"Frank Darabont\",\n",
    "        \"year\": 1994,\n",
    "        \"genre\": [\"Drama\"]\n",
    "    },\n",
    "    {\n",
    "        \"title\": \"The Godfather\",\n",
    "        \"director\": \"Francis Ford Coppola\",\n",
    "        \"year\": 1972,\n",
    "        \"genre\": [\"Crime\", \"Drama\"]  # You can store genres as a list here\n",
    "    },\n",
    "]\n",
    "movies"
   ]
  },
  {
   "cell_type": "markdown",
   "id": "08b91e72-2756-496b-95ff-8641c3c04a6c",
   "metadata": {},
   "source": [
    "### Add a new movie to your collection (consider using appropriate data structures)."
   ]
  },
  {
   "cell_type": "code",
   "execution_count": 115,
   "id": "988c4616-d1fd-4c5d-b3fa-b10b996617ce",
   "metadata": {
    "tags": []
   },
   "outputs": [],
   "source": [
    "def add_movie(title, director, year, genre):\n",
    "    movies.append({ \"title\": title, \"director\": director, \"year\": year, \"genre\": genre })"
   ]
  },
  {
   "cell_type": "code",
   "execution_count": 116,
   "id": "b9ccb6b3-3bbc-4081-82c2-4071d7d9818d",
   "metadata": {
    "tags": []
   },
   "outputs": [
    {
     "data": {
      "text/plain": [
       "[{'title': 'The Shawshank Redemption',\n",
       "  'director': 'Frank Darabont',\n",
       "  'year': 1994,\n",
       "  'genre': ['Drama']},\n",
       " {'title': 'The Godfather',\n",
       "  'director': 'Francis Ford Coppola',\n",
       "  'year': 1972,\n",
       "  'genre': ['Crime', 'Drama']},\n",
       " {'title': 'new movie',\n",
       "  'director': 'Sunrise',\n",
       "  'year': 2024,\n",
       "  'genre': ['Data Science', 'DSE']},\n",
       " {'title': 'new movie',\n",
       "  'director': 'Sunrise',\n",
       "  'year': 2024,\n",
       "  'genre': ['Data Science', 'DSE']}]"
      ]
     },
     "execution_count": 116,
     "metadata": {},
     "output_type": "execute_result"
    }
   ],
   "source": [
    "add_movie(\"new movie\", \"Sunrise\", 2024, [\"Data Science\", \"DSE\"])\n",
    "\n",
    "movies"
   ]
  },
  {
   "cell_type": "markdown",
   "id": "bcb4864b-1840-44aa-a0b4-d0cba39b6c78",
   "metadata": {},
   "source": [
    "### Search for movies by title or director"
   ]
  },
  {
   "cell_type": "code",
   "execution_count": 94,
   "id": "f535016f-591d-41e6-822f-c9b2873a1552",
   "metadata": {
    "tags": []
   },
   "outputs": [
    {
     "data": {
      "text/plain": [
       "[{'title': 'new movie',\n",
       "  'director': 'Sunrise',\n",
       "  'year': 2024,\n",
       "  'genre': ['Data Science', 'DSE']},\n",
       " {'title': 'new movie',\n",
       "  'director': 'Sunrise',\n",
       "  'year': 2024,\n",
       "  'genre': ['Data Science', 'DSE']}]"
      ]
     },
     "execution_count": 94,
     "metadata": {},
     "output_type": "execute_result"
    }
   ],
   "source": [
    "def search_by(title = '', director = ''):\n",
    "    found_movie = []\n",
    "    for m in movies:\n",
    "        if m[\"title\"].lower() == title.lower() or director.lower() == m[\"director\"].lower():\n",
    "            found_movie.append(m)\n",
    "    \n",
    "    return found_movie\n",
    "\n",
    "search_by(director=\"sunrise\")"
   ]
  },
  {
   "cell_type": "markdown",
   "id": "7942e347-69d1-4b72-bc08-ae398c0a172d",
   "metadata": {},
   "source": [
    "### Filter movies based on genre or year of release."
   ]
  },
  {
   "cell_type": "code",
   "execution_count": 121,
   "id": "a019d811-b9d5-4c83-ac2f-d4218a8da013",
   "metadata": {
    "tags": []
   },
   "outputs": [
    {
     "data": {
      "text/plain": [
       "[{'title': 'The Godfather',\n",
       "  'director': 'Francis Ford Coppola',\n",
       "  'year': 1972,\n",
       "  'genre': ['Crime', 'Drama']}]"
      ]
     },
     "execution_count": 121,
     "metadata": {},
     "output_type": "execute_result"
    }
   ],
   "source": [
    "def filter_movie(year=None, genre = ''):\n",
    "    found_movie = []\n",
    "    for m in movies:\n",
    "        if m[\"year\"] == year or genre in m[\"genre\"]:\n",
    "            found_movie.append(m)\n",
    "        \n",
    "    return found_movie\n",
    "\n",
    "filter_movie(genre=\"Crime\")"
   ]
  },
  {
   "cell_type": "code",
   "execution_count": 111,
   "id": "6f7fe5b0-561a-4913-aa8d-a173dee49611",
   "metadata": {
    "tags": []
   },
   "outputs": [
    {
     "data": {
      "text/plain": [
       "True"
      ]
     },
     "execution_count": 111,
     "metadata": {},
     "output_type": "execute_result"
    }
   ],
   "source": [
    "g =  \"fsdfds\"\n",
    "\n",
    "\"\" in g"
   ]
  },
  {
   "cell_type": "markdown",
   "id": "11ea8025-d4f7-4153-ade5-17c2732ed339",
   "metadata": {},
   "source": [
    "### Display movie information in a user-friendly format"
   ]
  },
  {
   "cell_type": "code",
   "execution_count": 137,
   "id": "e58298f2-a24f-4739-8a05-e65eab2eea4c",
   "metadata": {
    "tags": []
   },
   "outputs": [
    {
     "name": "stdout",
     "output_type": "stream",
     "text": [
      "================================================\n",
      "title: The Shawshank Redemption\n",
      "director: Frank Darabont\n",
      "year: 1994\n",
      "genre: ['Drama']\n",
      "================================================\n",
      "title: The Godfather\n",
      "director: Francis Ford Coppola\n",
      "year: 1972\n",
      "genre: ['Crime', 'Drama']\n",
      "================================================\n",
      "title: new movie\n",
      "director: Sunrise\n",
      "year: 2024\n",
      "genre: ['Data Science', 'DSE']\n",
      "================================================\n",
      "title: new movie\n",
      "director: Sunrise\n",
      "year: 2024\n",
      "genre: ['Data Science', 'DSE']\n"
     ]
    }
   ],
   "source": [
    "# print(\"title\\t\\t\\t\\tdirector\\t\\t\\tyear\\tgenre\\t\")\n",
    "for m in movies:\n",
    "    # print(f\"{m['title']}\\t\\t{m['director']}\\t\\t\\t{m['year']}\\t{m['genre']}\")\n",
    "    print(\"================================================\")\n",
    "    print(f\"title: {m['title']}\")\n",
    "    print(f\"director: {m['director']}\")\n",
    "    print(f\"year: {m['year']}\")\n",
    "    print(f\"genre: {m['genre']}\")\n",
    "    "
   ]
  },
  {
   "cell_type": "code",
   "execution_count": null,
   "id": "a1aedc4b-e633-47f1-96d1-6321678b9e02",
   "metadata": {},
   "outputs": [],
   "source": []
  }
 ],
 "metadata": {
  "kernelspec": {
   "display_name": "Python 3 (ipykernel)",
   "language": "python",
   "name": "python3"
  },
  "language_info": {
   "codemirror_mode": {
    "name": "ipython",
    "version": 3
   },
   "file_extension": ".py",
   "mimetype": "text/x-python",
   "name": "python",
   "nbconvert_exporter": "python",
   "pygments_lexer": "ipython3",
   "version": "3.11.3"
  }
 },
 "nbformat": 4,
 "nbformat_minor": 5
}
