{
 "cells": [
  {
   "cell_type": "code",
   "execution_count": 11,
   "id": "52617a79-69d6-46ed-b40e-8f2983e48c37",
   "metadata": {
    "tags": []
   },
   "outputs": [
    {
     "name": "stdout",
     "output_type": "stream",
     "text": [
      "0\n",
      "1\n",
      "3\n",
      "4\n",
      "5\n",
      "6\n",
      "7\n"
     ]
    }
   ],
   "source": [
    "lst = [0, 1,3,4,5,6,7]\n",
    "\n",
    "for num in lst:\n",
    "    print(num)"
   ]
  },
  {
   "cell_type": "code",
   "execution_count": 15,
   "id": "88bfea85-06b2-40c4-957d-71a4e0b00d39",
   "metadata": {
    "tags": []
   },
   "outputs": [
    {
     "name": "stdout",
     "output_type": "stream",
     "text": [
      "0\n",
      "3\n",
      "5\n",
      "7\n"
     ]
    }
   ],
   "source": [
    "lst = [0, 1,3,4,5,6,7]\n",
    "index = 0\n",
    "for num in lst:\n",
    "    if index%2 == 0:\n",
    "        print(num)\n",
    "\n",
    "    index = index + 1\n",
    " "
   ]
  },
  {
   "cell_type": "code",
   "execution_count": 25,
   "id": "37c4ce8e-2e03-4e71-a05f-47bc1ab8753d",
   "metadata": {
    "tags": []
   },
   "outputs": [
    {
     "name": "stdout",
     "output_type": "stream",
     "text": [
      "index:0, value: 110\n",
      "index:2, value: 3\n",
      "index:4, value: 5\n",
      "index:6, value: 7\n"
     ]
    }
   ],
   "source": [
    "index_arr = list(range(len(lst))) # [0,1,2,3,4,5,6]\n",
    "lst = [110, 1,3,4,5,6,7]\n",
    "\n",
    "for i, num in zip(index_arr, lst):\n",
    "     if i % 2 == 0:\n",
    "            print(f\"index:{i}, value: {num}\")\n",
    " "
   ]
  },
  {
   "cell_type": "code",
   "execution_count": 24,
   "id": "f3632419-1b8d-4f45-9659-97b109cdabad",
   "metadata": {
    "tags": []
   },
   "outputs": [
    {
     "name": "stdout",
     "output_type": "stream",
     "text": [
      "110\n",
      "3\n",
      "5\n",
      "7\n"
     ]
    }
   ],
   "source": [
    "for i in index_arr:\n",
    "    if i % 2 == 0:\n",
    "        print(lst[i])"
   ]
  },
  {
   "cell_type": "code",
   "execution_count": null,
   "id": "fd22f0a0-3912-4053-9051-e26c0176e0d6",
   "metadata": {},
   "outputs": [],
   "source": []
  },
  {
   "cell_type": "code",
   "execution_count": 7,
   "id": "e1576b40-1b10-4c1c-8ea5-5ece29f24272",
   "metadata": {
    "tags": []
   },
   "outputs": [
    {
     "name": "stdout",
     "output_type": "stream",
     "text": [
      "Sum value:1020\n",
      "Sum value: 1020\n",
      "Avg value:113.33333333333333\n",
      "Min value:-10\n",
      "Max value: 1000\n",
      "Evens value: [0, 1000, 2, 4]\n",
      "Odds value: [1, 3, 5, 15]\n"
     ]
    }
   ],
   "source": [
    "\n",
    "lst = [0,1000, 1,2,3,4,5, 15, -10]\n",
    "total = 0\n",
    "smallest_value = lst[0]\n",
    "biggest_value = lst[0]\n",
    "even_numbers = []\n",
    "odd_numbers = []\n",
    "\n",
    "for num in lst:\n",
    "    # print(f\"num: {num}\")\n",
    "    total = total + num   # add every value of element to total \n",
    "    # print(f\"Current value: {total}\")\n",
    "    \n",
    "    if num < smallest_value: # update new smallest_value if num smaller\n",
    "        smallest_value = num\n",
    "\n",
    "    if num > biggest_value:\n",
    "        biggest_value = num\n",
    "        \n",
    "    if num % 2 == 0 and not(num < 0):\n",
    "        even_numbers.append(num)\n",
    "        \n",
    "        \n",
    "    if num % 2 != 0:\n",
    "        odd_numbers = odd_numbers + [num]\n",
    "    \n",
    "print(\"Sum value:\" + str(total))\n",
    "print(f\"Sum value: {total}\")\n",
    "print(f\"Avg value:{total/len(lst)}\")\n",
    "print(f\"Min value:{smallest_value}\")\n",
    "print(f\"Max value: {biggest_value}\")\n",
    "print(f\"Evens value: {even_numbers}\")\n",
    "print(f\"Odds value: {odd_numbers}\")"
   ]
  },
  {
   "cell_type": "code",
   "execution_count": 11,
   "id": "b486b6c9-7ed3-49f8-aa62-6127adf140fe",
   "metadata": {
    "tags": []
   },
   "outputs": [
    {
     "data": {
      "text/plain": [
       "{'id': 1, 'name': 'John', 'gender': 'M'}"
      ]
     },
     "execution_count": 11,
     "metadata": {},
     "output_type": "execute_result"
    }
   ],
   "source": [
    "stu = dict(id=1, name=\"John\", gender=\"M\")\n",
    "stu"
   ]
  },
  {
   "cell_type": "code",
   "execution_count": 19,
   "id": "ec00ab8e-fdcd-4428-a454-846eabfc58e0",
   "metadata": {
    "tags": []
   },
   "outputs": [
    {
     "name": "stdout",
     "output_type": "stream",
     "text": [
      "key\t\tvalue\n",
      "id\t\t1\n",
      "name\t\tJohn\n",
      "gender\t\tM\n"
     ]
    }
   ],
   "source": [
    "print(f\"key\\t\\tvalue\")\n",
    "for key in stu:\n",
    "    # print(fkey)\n",
    "    # print(stu[key])\n",
    "    print(f\"{key}\\t\\t{stu[key]}\")\n"
   ]
  },
  {
   "cell_type": "code",
   "execution_count": 32,
   "id": "1c0c93e2-3ee9-438a-ab05-1bf0dd2a1db0",
   "metadata": {
    "tags": []
   },
   "outputs": [
    {
     "name": "stdout",
     "output_type": "stream",
     "text": [
      "* * * * * * * * * * \n",
      "* * * * * * * * * * \n",
      "* * * * * * * * * * \n",
      "* * * * * * * * * * \n",
      "* * * * * * * * * * \n",
      "* * * * * * * * * * \n",
      "* * * * * * * * * * \n",
      "* * * * * * * * * * \n",
      "* * * * * * * * * * \n",
      "* * * * * * * * * * \n"
     ]
    }
   ],
   "source": [
    "size = 10\n",
    "\n",
    "for i in range(size):\n",
    "    for j in range(size):\n",
    "        # print(f\"{i}{j} \", end=\"\")\n",
    "        print(\"* \", end=\"\")\n",
    "    print(\"\")"
   ]
  },
  {
   "cell_type": "code",
   "execution_count": 36,
   "id": "84420376-8628-43d8-85e5-874d33ed9ca7",
   "metadata": {
    "tags": []
   },
   "outputs": [
    {
     "name": "stdout",
     "output_type": "stream",
     "text": [
      "*  *  *  *  *  \n",
      "*           *  \n",
      "*           *  \n",
      "*           *  \n",
      "*  *  *  *  *  \n"
     ]
    }
   ],
   "source": [
    "size = 5\n",
    "for i in range(size):\n",
    "    for j in range(size):\n",
    "        if i ==0 or j==0 or i==size-1 or j==size-1:\n",
    "            print(\"*  \", end=\"\")\n",
    "        else:\n",
    "            print(\"   \", end=\"\")\n",
    "    print(\"\")"
   ]
  },
  {
   "cell_type": "markdown",
   "id": "1f189eb4-4c6f-494e-a740-4817bea7f4a8",
   "metadata": {},
   "source": [
    "## While"
   ]
  },
  {
   "cell_type": "code",
   "execution_count": 38,
   "id": "0995931f-14fe-4155-b59d-d96ac6007617",
   "metadata": {
    "tags": []
   },
   "outputs": [
    {
     "name": "stdin",
     "output_type": "stream",
     "text": [
      "Please input your age: 1\n"
     ]
    },
    {
     "name": "stdout",
     "output_type": "stream",
     "text": [
      "Your age is not eligible\n"
     ]
    },
    {
     "name": "stdin",
     "output_type": "stream",
     "text": [
      "Please input your age again: 2\n"
     ]
    },
    {
     "name": "stdout",
     "output_type": "stream",
     "text": [
      "Your age is not eligible\n"
     ]
    },
    {
     "name": "stdin",
     "output_type": "stream",
     "text": [
      "Please input your age again: 3\n"
     ]
    },
    {
     "name": "stdout",
     "output_type": "stream",
     "text": [
      "Your age is not eligible\n"
     ]
    },
    {
     "name": "stdin",
     "output_type": "stream",
     "text": [
      "Please input your age again: 4\n"
     ]
    },
    {
     "name": "stdout",
     "output_type": "stream",
     "text": [
      "Your age is not eligible\n"
     ]
    },
    {
     "name": "stdin",
     "output_type": "stream",
     "text": [
      "Please input your age again: 2\n"
     ]
    },
    {
     "name": "stdout",
     "output_type": "stream",
     "text": [
      "Your age is not eligible\n"
     ]
    },
    {
     "name": "stdin",
     "output_type": "stream",
     "text": [
      "Please input your age again: 4\n"
     ]
    },
    {
     "name": "stdout",
     "output_type": "stream",
     "text": [
      "Your age is not eligible\n"
     ]
    },
    {
     "name": "stdin",
     "output_type": "stream",
     "text": [
      "Please input your age again: 5\n"
     ]
    },
    {
     "name": "stdout",
     "output_type": "stream",
     "text": [
      "Your age is not eligible\n"
     ]
    },
    {
     "name": "stdin",
     "output_type": "stream",
     "text": [
      "Please input your age again: 32\n"
     ]
    },
    {
     "name": "stdout",
     "output_type": "stream",
     "text": [
      "Your age is 32\n"
     ]
    }
   ],
   "source": [
    "voting_age = input(\"Please input your age:\")\n",
    "age_limit = 18\n",
    "\n",
    "while int(voting_age) < age_limit:\n",
    "    print(\"Your age is not eligible\")\n",
    "    voting_age = input(\"Please input your age again:\")\n",
    "\n",
    "print(f\"Your age is {voting_age}\")"
   ]
  },
  {
   "cell_type": "code",
   "execution_count": 40,
   "id": "474b8544-2cb0-4b85-b9e3-3252b9f50f94",
   "metadata": {
    "tags": []
   },
   "outputs": [
    {
     "name": "stdout",
     "output_type": "stream",
     "text": [
      "Execute 1 time(s)\n",
      "Execute 2 time(s)\n",
      "Execute 3 time(s)\n",
      "Execute 4 time(s)\n",
      "Execute 5 time(s)\n"
     ]
    }
   ],
   "source": [
    "num_executes = 5\n",
    "executed_number = 0\n",
    "while executed_number < num_executes:\n",
    "    executed_number = executed_number + 1\n",
    "    print(f\"Execute {executed_number} time(s)\")"
   ]
  },
  {
   "cell_type": "code",
   "execution_count": 7,
   "id": "46fb67d6-25e9-4f32-8b0f-975ed2fb6e79",
   "metadata": {},
   "outputs": [
    {
     "name": "stdout",
     "output_type": "stream",
     "text": [
      "1\n",
      "5\n"
     ]
    }
   ],
   "source": [
    "lst = [1000,1,2,3,4,5,6]\n",
    "num_executes = len(lst)\n",
    "executed_number = 1\n",
    "while executed_number < num_executes:\n",
    "    print(lst[executed_number])\n",
    "    executed_number = executed_number + 4"
   ]
  },
  {
   "cell_type": "code",
   "execution_count": null,
   "id": "33e3b6d4-8333-4280-a7cf-24b20ae66b43",
   "metadata": {},
   "outputs": [],
   "source": [
    "\n"
   ]
  }
 ],
 "metadata": {
  "kernelspec": {
   "display_name": "Python 3 (ipykernel)",
   "language": "python",
   "name": "python3"
  },
  "language_info": {
   "codemirror_mode": {
    "name": "ipython",
    "version": 3
   },
   "file_extension": ".py",
   "mimetype": "text/x-python",
   "name": "python",
   "nbconvert_exporter": "python",
   "pygments_lexer": "ipython3",
   "version": "3.11.3"
  }
 },
 "nbformat": 4,
 "nbformat_minor": 5
}
