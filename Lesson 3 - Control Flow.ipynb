{
 "cells": [
  {
   "cell_type": "code",
   "execution_count": 8,
   "id": "413231ca-2256-414c-b02d-4f6dd160e9ba",
   "metadata": {
    "tags": []
   },
   "outputs": [
    {
     "name": "stdin",
     "output_type": "stream",
     "text": [
      "Please input width:  214\n"
     ]
    }
   ],
   "source": [
    "w = int(input(\"Please input width: \"))"
   ]
  },
  {
   "cell_type": "code",
   "execution_count": 6,
   "id": "3b433717-db3e-4198-883b-a5d66ffa9e67",
   "metadata": {
    "tags": []
   },
   "outputs": [
    {
     "name": "stdin",
     "output_type": "stream",
     "text": [
      "Please input height: 40\n"
     ]
    }
   ],
   "source": [
    "h = int(input(\"Please input height:\"))"
   ]
  },
  {
   "cell_type": "code",
   "execution_count": 7,
   "id": "2a5dac25-6bbe-47af-826e-a68f7380c5c1",
   "metadata": {
    "tags": []
   },
   "outputs": [
    {
     "name": "stdout",
     "output_type": "stream",
     "text": [
      "400\n"
     ]
    }
   ],
   "source": [
    "area = w * h\n",
    "print(area)"
   ]
  },
  {
   "cell_type": "markdown",
   "id": "cde223f4-b7b0-437d-b069-03d8d971bac6",
   "metadata": {},
   "source": [
    "# Comparison Operation"
   ]
  },
  {
   "cell_type": "code",
   "execution_count": 10,
   "id": "81b4fbab-61fd-4edd-adbb-d762f3e599e6",
   "metadata": {
    "tags": []
   },
   "outputs": [
    {
     "name": "stdin",
     "output_type": "stream",
     "text": [
      "input value a: 100\n",
      "input value b: 10\n"
     ]
    }
   ],
   "source": [
    "a = int(input(\"input value a:\"))\n",
    "b = int(input(\"input value b:\"))"
   ]
  },
  {
   "cell_type": "code",
   "execution_count": 11,
   "id": "52f8b3c6-c631-4e1e-b0b6-23c44e165275",
   "metadata": {
    "tags": []
   },
   "outputs": [
    {
     "data": {
      "text/plain": [
       "True"
      ]
     },
     "execution_count": 11,
     "metadata": {},
     "output_type": "execute_result"
    }
   ],
   "source": [
    "a > b"
   ]
  },
  {
   "cell_type": "code",
   "execution_count": 12,
   "id": "03cac971-2884-4fb6-8294-9eb2e65b8e29",
   "metadata": {
    "tags": []
   },
   "outputs": [
    {
     "data": {
      "text/plain": [
       "False"
      ]
     },
     "execution_count": 12,
     "metadata": {},
     "output_type": "execute_result"
    }
   ],
   "source": [
    "a < b"
   ]
  },
  {
   "cell_type": "code",
   "execution_count": 13,
   "id": "0377a641-05f4-42a4-b876-68695b4f1598",
   "metadata": {
    "tags": []
   },
   "outputs": [
    {
     "data": {
      "text/plain": [
       "False"
      ]
     },
     "execution_count": 13,
     "metadata": {},
     "output_type": "execute_result"
    }
   ],
   "source": [
    "a == b"
   ]
  },
  {
   "cell_type": "code",
   "execution_count": 14,
   "id": "e8318350-9fa7-4fe1-90e7-1bb7aaae33bb",
   "metadata": {
    "tags": []
   },
   "outputs": [
    {
     "data": {
      "text/plain": [
       "(100, 10)"
      ]
     },
     "execution_count": 14,
     "metadata": {},
     "output_type": "execute_result"
    }
   ],
   "source": [
    "a, b"
   ]
  },
  {
   "cell_type": "code",
   "execution_count": 15,
   "id": "4d87e91b-20f3-451d-ac21-5f726692ec12",
   "metadata": {
    "tags": []
   },
   "outputs": [],
   "source": [
    "a = b"
   ]
  },
  {
   "cell_type": "code",
   "execution_count": 21,
   "id": "050e5e8b-04fd-4e44-a566-7b99daae1411",
   "metadata": {
    "tags": []
   },
   "outputs": [
    {
     "data": {
      "text/plain": [
       "(10, 10)"
      ]
     },
     "execution_count": 21,
     "metadata": {},
     "output_type": "execute_result"
    }
   ],
   "source": [
    "a, b"
   ]
  },
  {
   "cell_type": "code",
   "execution_count": 22,
   "id": "ef7d2a7e-f3c3-4336-b00d-9767487ec91a",
   "metadata": {
    "tags": []
   },
   "outputs": [
    {
     "data": {
      "text/plain": [
       "True"
      ]
     },
     "execution_count": 22,
     "metadata": {},
     "output_type": "execute_result"
    }
   ],
   "source": [
    "a = 'A'\n",
    "b = 'B'\n",
    "a < b"
   ]
  },
  {
   "cell_type": "code",
   "execution_count": null,
   "id": "b50ac9fe-2377-4ba1-8ce9-5ce584ebc460",
   "metadata": {},
   "outputs": [],
   "source": [
    "a = 'a'\n",
    "b"
   ]
  },
  {
   "cell_type": "code",
   "execution_count": 23,
   "id": "0eb209cf-e71c-448c-834d-ea578fed71ac",
   "metadata": {
    "tags": []
   },
   "outputs": [
    {
     "data": {
      "text/plain": [
       "False"
      ]
     },
     "execution_count": 23,
     "metadata": {},
     "output_type": "execute_result"
    }
   ],
   "source": [
    "a > b"
   ]
  },
  {
   "cell_type": "code",
   "execution_count": 32,
   "id": "d9ca0013-4834-4ea9-afda-ddaec4c31f84",
   "metadata": {
    "tags": []
   },
   "outputs": [
    {
     "data": {
      "text/plain": [
       "False"
      ]
     },
     "execution_count": 32,
     "metadata": {},
     "output_type": "execute_result"
    }
   ],
   "source": [
    "a = '24'\n",
    "b = '22'\n",
    "a < b"
   ]
  },
  {
   "cell_type": "markdown",
   "id": "7ecd0b46-7630-435f-bb2d-f4b21f0de098",
   "metadata": {},
   "source": [
    "# Logical Operation "
   ]
  },
  {
   "cell_type": "markdown",
   "id": "2b0da769-64bd-4b37-a164-6c633922cc79",
   "metadata": {},
   "source": [
    "## OR Operation"
   ]
  },
  {
   "cell_type": "code",
   "execution_count": 38,
   "id": "20ae0eda-c6c2-4960-97b4-ed1b38cdbf9d",
   "metadata": {
    "tags": []
   },
   "outputs": [
    {
     "name": "stdin",
     "output_type": "stream",
     "text": [
      "Please input your scholarship condition (A - F): E\n",
      "Gender (M / F): F\n"
     ]
    }
   ],
   "source": [
    "# Scholarship Female or Grade A\n",
    "grade = input(\"Please input your scholarship condition (A - F):\")\n",
    "gender = input(\"Gender (M / F):\")"
   ]
  },
  {
   "cell_type": "code",
   "execution_count": 39,
   "id": "f10bd310-b319-4122-bad0-bee255bdd074",
   "metadata": {
    "tags": []
   },
   "outputs": [
    {
     "data": {
      "text/plain": [
       "True"
      ]
     },
     "execution_count": 39,
     "metadata": {},
     "output_type": "execute_result"
    }
   ],
   "source": [
    "grade == 'A' or gender == 'F'"
   ]
  },
  {
   "cell_type": "code",
   "execution_count": 60,
   "id": "7a686a33-03e7-4978-a227-6eba12b232bc",
   "metadata": {
    "tags": []
   },
   "outputs": [
    {
     "name": "stdin",
     "output_type": "stream",
     "text": [
      "Please input your scholarship condition (A - F): E\n",
      "Gender (M / F): M\n",
      "Family condition (Poor, Avg, Rich): Avg\n"
     ]
    }
   ],
   "source": [
    "# Scholarship Female or Grade A or Poor family confition\n",
    "grade = input(\"Please input your scholarship condition (A - F):\")\n",
    "gender = input(\"Gender (M / F):\")\n",
    "f_condition = input(\"Family condition (Poor, Avg, Rich):\")"
   ]
  },
  {
   "cell_type": "code",
   "execution_count": 71,
   "id": "554d10cb-d423-414b-9ec3-e65241be6368",
   "metadata": {
    "tags": []
   },
   "outputs": [
    {
     "data": {
      "text/plain": [
       "False"
      ]
     },
     "execution_count": 71,
     "metadata": {},
     "output_type": "execute_result"
    }
   ],
   "source": [
    "# Scholarship\n",
    "grade.upper().strip() == 'A' \\\n",
    "or gender.upper().strip() == 'F' \\\n",
    "or f_condition.upper().strip() == 'POOR'"
   ]
  },
  {
   "cell_type": "code",
   "execution_count": 74,
   "id": "62fe56b5-dbf8-4a13-8d2f-e96e695be2a4",
   "metadata": {
    "tags": []
   },
   "outputs": [
    {
     "data": {
      "text/plain": [
       "True"
      ]
     },
     "execution_count": 74,
     "metadata": {},
     "output_type": "execute_result"
    }
   ],
   "source": [
    "# Non-scholarship\n",
    "# condition are case-sensitive\n",
    "\n",
    "not(grade.upper().strip() == 'A'\n",
    "    or gender.upper().strip() == 'F'\n",
    "    or f_condition.upper().strip() == 'POOR'\n",
    "   )"
   ]
  },
  {
   "cell_type": "code",
   "execution_count": 58,
   "id": "2c410dc6-f5f3-41c1-8d55-b7804552e7f3",
   "metadata": {
    "tags": []
   },
   "outputs": [
    {
     "data": {
      "text/plain": [
       "'A'"
      ]
     },
     "execution_count": 58,
     "metadata": {},
     "output_type": "execute_result"
    }
   ],
   "source": [
    "grade.upper().strip()"
   ]
  },
  {
   "cell_type": "markdown",
   "id": "4103f149-bbc0-4698-9066-d1722c801672",
   "metadata": {},
   "source": [
    "## And Operation"
   ]
  },
  {
   "cell_type": "code",
   "execution_count": 40,
   "id": "4d9ad0af-608f-4faf-b968-cd227bf6f33e",
   "metadata": {
    "tags": []
   },
   "outputs": [
    {
     "name": "stdin",
     "output_type": "stream",
     "text": [
      "Please input your scholarship condition (A - F): A\n",
      "Gender (M / F): M\n"
     ]
    }
   ],
   "source": [
    "# Scholarship Female and Grade A\n",
    "grade = input(\"Please input your scholarship condition (A - F):\")\n",
    "gender = input(\"Gender (M / F):\")"
   ]
  },
  {
   "cell_type": "code",
   "execution_count": 41,
   "id": "efcb6d8a-c411-4a0e-84bf-c802edbc2dab",
   "metadata": {
    "tags": []
   },
   "outputs": [
    {
     "data": {
      "text/plain": [
       "False"
      ]
     },
     "execution_count": 41,
     "metadata": {},
     "output_type": "execute_result"
    }
   ],
   "source": [
    "grade == 'A' and gender == 'F'"
   ]
  },
  {
   "cell_type": "markdown",
   "id": "be0d2a64-7339-4de9-b39e-9a5cdfc40723",
   "metadata": {},
   "source": [
    "# If - elif - else"
   ]
  },
  {
   "cell_type": "code",
   "execution_count": 79,
   "id": "acb52231-6874-4522-a7b3-7a70bdc97360",
   "metadata": {
    "tags": []
   },
   "outputs": [
    {
     "name": "stdin",
     "output_type": "stream",
     "text": [
      "Please input your scholarship condition (A - F): F\n",
      "Gender (M / F): F\n"
     ]
    },
    {
     "name": "stdout",
     "output_type": "stream",
     "text": [
      "You don't need to pay the tution fee\n",
      "You need to pay admin fee 10$\n",
      "thank for choosing our university\n"
     ]
    }
   ],
   "source": [
    "# Scholarship Female or Grade A\n",
    "grade = input(\"Please input your scholarship condition (A - F):\")\n",
    "gender = input(\"Gender (M / F):\")\n",
    "\n",
    "is_scholarship_stu = grade == 'A' or gender == 'F'\n",
    "\n",
    "# if is_scholarship_stu:\n",
    "if grade == 'A' or gender == 'F':\n",
    "    print(\"You don't need to pay the tution fee\")\n",
    "    print(\"You need to pay admin fee 10$\")\n",
    "else:\n",
    "    print(\"You need to pay tution fee 100$\")\n",
    "    print(\"You need to pay admin fee 20$\")\n",
    "print(\"thank for choosing our university\")"
   ]
  },
  {
   "cell_type": "code",
   "execution_count": 87,
   "id": "844be884-8aba-4313-ba03-3cb4f622bf4b",
   "metadata": {
    "tags": []
   },
   "outputs": [
    {
     "name": "stdin",
     "output_type": "stream",
     "text": [
      "Please input your password: admin2\n"
     ]
    },
    {
     "name": "stdout",
     "output_type": "stream",
     "text": [
      "False\n"
     ]
    }
   ],
   "source": [
    "password = input(\"Please input your password:\")\n",
    "is_admin = True if password == 'admin' else False\n",
    "print(is_admin)"
   ]
  },
  {
   "cell_type": "code",
   "execution_count": 84,
   "id": "8df8fb2b-1be7-40cb-bd2a-1d5704871d59",
   "metadata": {
    "tags": []
   },
   "outputs": [
    {
     "name": "stdin",
     "output_type": "stream",
     "text": [
      "Please input student score 49\n"
     ]
    },
    {
     "name": "stdout",
     "output_type": "stream",
     "text": [
      "The student's grade is:F\n"
     ]
    }
   ],
   "source": [
    "mark = int(input(\"Please input student score\"))\n",
    "\n",
    "grade = None\n",
    "if mark >= 90:\n",
    "    grade = 'A'\n",
    "elif mark <90 and mark >=80:\n",
    "    grade = 'B'\n",
    "elif mark <80 and mark >= 70:\n",
    "    grade = 'C'\n",
    "elif mark <70 and mark >=60:\n",
    "    grade = 'D'\n",
    "elif mark <60 and mark >=50:\n",
    "    grade = 'E'\n",
    "else:\n",
    "    grade = 'F'\n",
    "    \n",
    "print(\"The student's grade is:\" + grade)"
   ]
  },
  {
   "cell_type": "code",
   "execution_count": 2,
   "id": "3bea293d-f235-43f8-88ca-99b3fc77af0d",
   "metadata": {
    "tags": []
   },
   "outputs": [
    {
     "name": "stdin",
     "output_type": "stream",
     "text": [
      "Please input student score 100\n"
     ]
    },
    {
     "name": "stdout",
     "output_type": "stream",
     "text": [
      "The student's grade is:A !\n"
     ]
    }
   ],
   "source": [
    "mark = int(input(\"Please input student score\"))\n",
    "grade = None\n",
    "if mark >= 90:\n",
    "    grade = 'A'\n",
    "elif mark >=80:\n",
    "    grade = 'B'\n",
    "elif mark >= 70:\n",
    "    grade = 'C'\n",
    "elif mark >=60:\n",
    "    grade = 'D'\n",
    "elif mark >=50:\n",
    "    grade = 'E'\n",
    "else:\n",
    "    grade = 'F'\n",
    "    \n",
    "print(\"The student's grade is:\" + grade + \" !\")"
   ]
  },
  {
   "cell_type": "code",
   "execution_count": 1,
   "id": "e382ad10-414d-4621-ab93-4eb939c24e77",
   "metadata": {
    "tags": []
   },
   "outputs": [
    {
     "name": "stdout",
     "output_type": "stream",
     "text": [
      "Hello world\n"
     ]
    }
   ],
   "source": [
    "# print = \"A\"\n",
    "print(\"Hello world\")"
   ]
  },
  {
   "cell_type": "markdown",
   "id": "b7dfb406-b837-4782-a033-f78d526914ee",
   "metadata": {},
   "source": [
    "hi<br/>\n",
    "world"
   ]
  },
  {
   "cell_type": "markdown",
   "id": "5eea1e57-49e6-42ce-8f4f-6ccc65d0bdbe",
   "metadata": {},
   "source": [
    "Online Shopping Discount Calculator: Let cashier input the purchase amount, Simulate an online store that offers a discount based on the purchase amount: \n",
    "\n",
    "- 10% discount if above 100\\$ \n",
    "- 20% discount if above 500\\$\n",
    "- 50% discount if above 1000\\$\n"
   ]
  },
  {
   "cell_type": "code",
   "execution_count": 5,
   "id": "957135ba-9ff1-496a-a9f8-1ffcd71fa7e0",
   "metadata": {
    "tags": []
   },
   "outputs": [
    {
     "data": {
      "text/plain": [
       "1000000000"
      ]
     },
     "execution_count": 5,
     "metadata": {},
     "output_type": "execute_result"
    }
   ],
   "source": [
    "1_000_000_000"
   ]
  },
  {
   "cell_type": "code",
   "execution_count": null,
   "id": "de608e6b-1640-4683-bfeb-bfd92083c142",
   "metadata": {},
   "outputs": [],
   "source": []
  }
 ],
 "metadata": {
  "kernelspec": {
   "display_name": "Python 3 (ipykernel)",
   "language": "python",
   "name": "python3"
  },
  "language_info": {
   "codemirror_mode": {
    "name": "ipython",
    "version": 3
   },
   "file_extension": ".py",
   "mimetype": "text/x-python",
   "name": "python",
   "nbconvert_exporter": "python",
   "pygments_lexer": "ipython3",
   "version": "3.11.3"
  }
 },
 "nbformat": 4,
 "nbformat_minor": 5
}
