{
 "cells": [
  {
   "cell_type": "markdown",
   "id": "e8811968-e989-4309-a916-ad8b70b26a9d",
   "metadata": {
    "tags": []
   },
   "source": [
    "# Lesson 4: Collection of Data"
   ]
  },
  {
   "cell_type": "markdown",
   "id": "fe127550-886e-4322-a174-121be53bffd8",
   "metadata": {
    "tags": []
   },
   "source": [
    "## List"
   ]
  },
  {
   "cell_type": "code",
   "execution_count": 53,
   "id": "613bba59-cf1e-462c-bb1f-5c4a009f81c3",
   "metadata": {
    "tags": []
   },
   "outputs": [
    {
     "data": {
      "text/plain": [
       "[1, 2, 3, 4, 5, 6, 7, 8, 9]"
      ]
     },
     "execution_count": 53,
     "metadata": {},
     "output_type": "execute_result"
    }
   ],
   "source": [
    "numbers = [1,2,3,4,5,6,7,8,9]\n",
    "numbers"
   ]
  },
  {
   "cell_type": "markdown",
   "id": "bee12e90-05bc-4dc4-bc77-6f2786e2fc8a",
   "metadata": {},
   "source": [
    "### Read by index"
   ]
  },
  {
   "cell_type": "code",
   "execution_count": 54,
   "id": "4e6e2603-47d6-4873-96ea-60f3b1258920",
   "metadata": {
    "tags": []
   },
   "outputs": [
    {
     "data": {
      "text/plain": [
       "1"
      ]
     },
     "execution_count": 54,
     "metadata": {},
     "output_type": "execute_result"
    }
   ],
   "source": [
    "numbers[0]"
   ]
  },
  {
   "cell_type": "code",
   "execution_count": 55,
   "id": "3b6b8497-9f45-4560-8569-05bb2625bafe",
   "metadata": {
    "tags": []
   },
   "outputs": [
    {
     "data": {
      "text/plain": [
       "7"
      ]
     },
     "execution_count": 55,
     "metadata": {},
     "output_type": "execute_result"
    }
   ],
   "source": [
    "numbers[-3]"
   ]
  },
  {
   "cell_type": "code",
   "execution_count": 56,
   "id": "98e6b4a3-f583-475b-83f6-537b9343b1c2",
   "metadata": {
    "tags": []
   },
   "outputs": [
    {
     "data": {
      "text/plain": [
       "['apple', 'banana', 'cat']"
      ]
     },
     "execution_count": 56,
     "metadata": {},
     "output_type": "execute_result"
    }
   ],
   "source": [
    "fruits = [\"apple\", \"banana\", \"cat\"]\n",
    "fruits"
   ]
  },
  {
   "cell_type": "code",
   "execution_count": 57,
   "id": "1eac1de9-2433-40f9-90e5-49568df5927b",
   "metadata": {
    "tags": []
   },
   "outputs": [
    {
     "data": {
      "text/plain": [
       "'apple'"
      ]
     },
     "execution_count": 57,
     "metadata": {},
     "output_type": "execute_result"
    }
   ],
   "source": [
    "fruits[0]"
   ]
  },
  {
   "cell_type": "code",
   "execution_count": 59,
   "id": "7c000402-7247-4a97-a041-e9ede66fd266",
   "metadata": {
    "tags": []
   },
   "outputs": [
    {
     "ename": "IndexError",
     "evalue": "list index out of range",
     "output_type": "error",
     "traceback": [
      "\u001b[1;31m---------------------------------------------------------------------------\u001b[0m",
      "\u001b[1;31mIndexError\u001b[0m                                Traceback (most recent call last)",
      "Cell \u001b[1;32mIn[59], line 1\u001b[0m\n\u001b[1;32m----> 1\u001b[0m fruits[\u001b[38;5;241m3\u001b[39m]\n",
      "\u001b[1;31mIndexError\u001b[0m: list index out of range"
     ]
    }
   ],
   "source": [
    "fruits[3]"
   ]
  },
  {
   "cell_type": "code",
   "execution_count": 60,
   "id": "1370fc88-a6e1-435c-832f-3780b56067cd",
   "metadata": {
    "tags": []
   },
   "outputs": [
    {
     "data": {
      "text/plain": [
       "9"
      ]
     },
     "execution_count": 60,
     "metadata": {},
     "output_type": "execute_result"
    }
   ],
   "source": [
    "len(numbers)"
   ]
  },
  {
   "cell_type": "code",
   "execution_count": 61,
   "id": "485750b8-7410-49dc-8d8a-d01e3afd34b5",
   "metadata": {
    "tags": []
   },
   "outputs": [
    {
     "data": {
      "text/plain": [
       "9"
      ]
     },
     "execution_count": 61,
     "metadata": {},
     "output_type": "execute_result"
    }
   ],
   "source": [
    "numbers[8]"
   ]
  },
  {
   "cell_type": "code",
   "execution_count": 62,
   "id": "b4d9194a-ded5-4c5e-91d7-27c064468732",
   "metadata": {
    "tags": []
   },
   "outputs": [
    {
     "ename": "IndexError",
     "evalue": "list index out of range",
     "output_type": "error",
     "traceback": [
      "\u001b[1;31m---------------------------------------------------------------------------\u001b[0m",
      "\u001b[1;31mIndexError\u001b[0m                                Traceback (most recent call last)",
      "Cell \u001b[1;32mIn[62], line 1\u001b[0m\n\u001b[1;32m----> 1\u001b[0m numbers[\u001b[38;5;241m9\u001b[39m]\n",
      "\u001b[1;31mIndexError\u001b[0m: list index out of range"
     ]
    }
   ],
   "source": [
    "numbers[9]"
   ]
  },
  {
   "cell_type": "markdown",
   "id": "185f9e23-c4fb-46f4-b545-6bca5c21fa4f",
   "metadata": {},
   "source": [
    "### Slicing List"
   ]
  },
  {
   "cell_type": "code",
   "execution_count": 63,
   "id": "43bfc194-55b7-4ff2-8103-2937772a934d",
   "metadata": {
    "tags": []
   },
   "outputs": [
    {
     "data": {
      "text/plain": [
       "[1, 2, 3, 4, 5, 6, 7, 8, 9]"
      ]
     },
     "execution_count": 63,
     "metadata": {},
     "output_type": "execute_result"
    }
   ],
   "source": [
    "numbers = [1,2,3,4,5,6,7,8,9]\n",
    "numbers"
   ]
  },
  {
   "cell_type": "code",
   "execution_count": 64,
   "id": "6e536a94-a47e-4a9d-b435-42d836d20557",
   "metadata": {
    "tags": []
   },
   "outputs": [
    {
     "data": {
      "text/plain": [
       "(2, 3)"
      ]
     },
     "execution_count": 64,
     "metadata": {},
     "output_type": "execute_result"
    }
   ],
   "source": [
    "numbers[1], numbers[2]"
   ]
  },
  {
   "cell_type": "code",
   "execution_count": 65,
   "id": "438c66d9-0e30-4f3a-8609-75211a09c452",
   "metadata": {
    "tags": []
   },
   "outputs": [
    {
     "data": {
      "text/plain": [
       "[2, 3]"
      ]
     },
     "execution_count": 65,
     "metadata": {},
     "output_type": "execute_result"
    }
   ],
   "source": [
    "numbers[1:3] # take index 1 until 3, but exclude 3rd index "
   ]
  },
  {
   "cell_type": "code",
   "execution_count": 66,
   "id": "5b4dadce-a7a4-4369-bec1-62eb13bf88ba",
   "metadata": {
    "tags": []
   },
   "outputs": [
    {
     "data": {
      "text/plain": [
       "[2, 3, 4, 5, 6, 7, 8, 9]"
      ]
     },
     "execution_count": 66,
     "metadata": {},
     "output_type": "execute_result"
    }
   ],
   "source": [
    "numbers[1:]"
   ]
  },
  {
   "cell_type": "code",
   "execution_count": 67,
   "id": "9f0f9bd8-e38d-4e0e-a9d1-41985724a6b3",
   "metadata": {
    "tags": []
   },
   "outputs": [
    {
     "data": {
      "text/plain": [
       "[1, 2, 3, 4, 5]"
      ]
     },
     "execution_count": 67,
     "metadata": {},
     "output_type": "execute_result"
    }
   ],
   "source": [
    "numbers[:5]"
   ]
  },
  {
   "cell_type": "code",
   "execution_count": 68,
   "id": "cd8ad76a-272b-4c00-9273-f4d3da2c58e4",
   "metadata": {
    "tags": []
   },
   "outputs": [
    {
     "data": {
      "text/plain": [
       "[7, 8]"
      ]
     },
     "execution_count": 68,
     "metadata": {},
     "output_type": "execute_result"
    }
   ],
   "source": [
    "numbers[-3: -1]"
   ]
  },
  {
   "cell_type": "markdown",
   "id": "d25a84b3-7ac3-4e5a-ba81-b326ed4b20a6",
   "metadata": {},
   "source": [
    "### Mutate (update or change) List"
   ]
  },
  {
   "cell_type": "code",
   "execution_count": 69,
   "id": "fc8084c5-63d3-4ae5-9841-e536b326ce5a",
   "metadata": {
    "tags": []
   },
   "outputs": [
    {
     "data": {
      "text/plain": [
       "[1, 2, 3, 4, 5, 6, 7, 8, 9]"
      ]
     },
     "execution_count": 69,
     "metadata": {},
     "output_type": "execute_result"
    }
   ],
   "source": [
    "numbers = [1,2,3,4,5,6,7,8,9]\n",
    "numbers"
   ]
  },
  {
   "cell_type": "markdown",
   "id": "dcbf7b7f-4f51-4fad-8b86-e6712ee7a399",
   "metadata": {},
   "source": [
    "#### Update new value by index"
   ]
  },
  {
   "cell_type": "code",
   "execution_count": 70,
   "id": "796ce905-ad67-40ab-9190-6b698e8142f7",
   "metadata": {
    "tags": []
   },
   "outputs": [
    {
     "data": {
      "text/plain": [
       "[10000, 2, 3, 4, 5, 6, 7, 8, 9]"
      ]
     },
     "execution_count": 70,
     "metadata": {},
     "output_type": "execute_result"
    }
   ],
   "source": [
    "numbers[0] = 10000\n",
    "numbers"
   ]
  },
  {
   "cell_type": "markdown",
   "id": "c7fab05b-6939-4a82-b288-7f33558a416d",
   "metadata": {},
   "source": [
    "#### Add values"
   ]
  },
  {
   "cell_type": "code",
   "execution_count": 71,
   "id": "a5cb7b12-208b-4741-b8c8-7df52ae19000",
   "metadata": {
    "tags": []
   },
   "outputs": [
    {
     "data": {
      "text/plain": [
       "[10000, 2, 3, 4, 5, 6, 7, 8, 9, 10]"
      ]
     },
     "execution_count": 71,
     "metadata": {},
     "output_type": "execute_result"
    }
   ],
   "source": [
    "numbers.append(10)\n",
    "numbers"
   ]
  },
  {
   "cell_type": "code",
   "execution_count": 72,
   "id": "36cc62b4-5434-4dc7-8f85-2f0a8a71b162",
   "metadata": {
    "tags": []
   },
   "outputs": [
    {
     "data": {
      "text/plain": [
       "[10000, 2, 3, 4, 5, 6, 7, 8, 9, 10, 11, 12, 13, 14, 15]"
      ]
     },
     "execution_count": 72,
     "metadata": {},
     "output_type": "execute_result"
    }
   ],
   "source": [
    "other_numbers = [11,12,13,14,15]\n",
    "new_numbers = numbers + other_numbers\n",
    "new_numbers"
   ]
  },
  {
   "cell_type": "code",
   "execution_count": 73,
   "id": "04174e9c-0b0a-48fc-9cfb-18bc9b18472f",
   "metadata": {
    "tags": []
   },
   "outputs": [
    {
     "data": {
      "text/plain": [
       "[10000, 2, 3, 4, 5, 6, 7, 8, 9, 10]"
      ]
     },
     "execution_count": 73,
     "metadata": {},
     "output_type": "execute_result"
    }
   ],
   "source": [
    "numbers"
   ]
  },
  {
   "cell_type": "markdown",
   "id": "d53f5af1-e80d-49e8-aad7-1375c00dc070",
   "metadata": {},
   "source": [
    "#### Add value by index"
   ]
  },
  {
   "cell_type": "code",
   "execution_count": 74,
   "id": "a80bbeb1-cc95-48e1-962b-6543d5679b0d",
   "metadata": {
    "tags": []
   },
   "outputs": [
    {
     "data": {
      "text/plain": [
       "[1, 2, 3, 4, 5, 6, 7, 8, 9, 10]"
      ]
     },
     "execution_count": 74,
     "metadata": {},
     "output_type": "execute_result"
    }
   ],
   "source": [
    "numbers = [1,2,3,4,5,6,7,8,9, 10]\n",
    "numbers"
   ]
  },
  {
   "cell_type": "code",
   "execution_count": 75,
   "id": "872f98a1-31c3-4a7e-abd0-3fd0d7537436",
   "metadata": {
    "tags": []
   },
   "outputs": [
    {
     "data": {
      "text/plain": [
       "[1, 2, 3, 100000, 4, 5, 6, 7, 8, 9, 10]"
      ]
     },
     "execution_count": 75,
     "metadata": {},
     "output_type": "execute_result"
    }
   ],
   "source": [
    "numbers.insert(3, 100000)\n",
    "numbers"
   ]
  },
  {
   "cell_type": "code",
   "execution_count": 76,
   "id": "9e67c279-eb0f-463e-98ae-a1c84ddf9def",
   "metadata": {
    "tags": []
   },
   "outputs": [
    {
     "name": "stdout",
     "output_type": "stream",
     "text": [
      "[1, 2, 3, 100000, 4, 5, 6, 7, 8, 9, 10]\n"
     ]
    }
   ],
   "source": [
    "print(numbers)"
   ]
  },
  {
   "cell_type": "markdown",
   "id": "49e9386c-94cb-400c-95a8-c46deb784092",
   "metadata": {},
   "source": [
    "#### Delete by value"
   ]
  },
  {
   "cell_type": "code",
   "execution_count": 77,
   "id": "306bada5-ab45-4eee-8053-182c8fd3958f",
   "metadata": {
    "tags": []
   },
   "outputs": [
    {
     "data": {
      "text/plain": [
       "[10000, 2, 3, 4, 5, 6, 7, 8, 9, 10]"
      ]
     },
     "execution_count": 77,
     "metadata": {},
     "output_type": "execute_result"
    }
   ],
   "source": [
    "numbers = [10000,2,3,4,5,6,7,8,9, 10]\n",
    "numbers"
   ]
  },
  {
   "cell_type": "code",
   "execution_count": 78,
   "id": "2cda2519-4bb6-4ece-bb4e-9eb6f69f3f63",
   "metadata": {
    "tags": []
   },
   "outputs": [
    {
     "data": {
      "text/plain": [
       "[10000, 2, 3, 4, 5, 6, 7, 8, 9]"
      ]
     },
     "execution_count": 78,
     "metadata": {},
     "output_type": "execute_result"
    }
   ],
   "source": [
    "numbers.remove(10)\n",
    "numbers"
   ]
  },
  {
   "cell_type": "code",
   "execution_count": 79,
   "id": "376fa6f2-7cb0-4366-b78d-987c03ff47bf",
   "metadata": {
    "tags": []
   },
   "outputs": [
    {
     "data": {
      "text/plain": [
       "[2, 3, 4, 5, 6, 7, 8, 9]"
      ]
     },
     "execution_count": 79,
     "metadata": {},
     "output_type": "execute_result"
    }
   ],
   "source": [
    "numbers.remove(10000)\n",
    "numbers"
   ]
  },
  {
   "cell_type": "code",
   "execution_count": 80,
   "id": "32b24620-ad8a-4100-b7fe-534718be95cb",
   "metadata": {
    "tags": []
   },
   "outputs": [
    {
     "ename": "ValueError",
     "evalue": "list.remove(x): x not in list",
     "output_type": "error",
     "traceback": [
      "\u001b[1;31m---------------------------------------------------------------------------\u001b[0m",
      "\u001b[1;31mValueError\u001b[0m                                Traceback (most recent call last)",
      "Cell \u001b[1;32mIn[80], line 2\u001b[0m\n\u001b[0;32m      1\u001b[0m \u001b[38;5;66;03m# Not recommend by value, since it can cause error, recommend to filter instead\u001b[39;00m\n\u001b[1;32m----> 2\u001b[0m numbers\u001b[38;5;241m.\u001b[39mremove(\u001b[38;5;241m10000\u001b[39m)\n\u001b[0;32m      3\u001b[0m numbers\n",
      "\u001b[1;31mValueError\u001b[0m: list.remove(x): x not in list"
     ]
    }
   ],
   "source": [
    "# Not recommend by value, since it can cause error, recommend to filter instead\n",
    "numbers.remove(10000)\n",
    "numbers"
   ]
  },
  {
   "cell_type": "code",
   "execution_count": 81,
   "id": "3fc48fe4-d9c8-4b72-9c27-e41914bc49f0",
   "metadata": {
    "tags": []
   },
   "outputs": [
    {
     "data": {
      "text/plain": [
       "[2, 3, 4, 5, 6, 7, 8, 9]"
      ]
     },
     "execution_count": 81,
     "metadata": {},
     "output_type": "execute_result"
    }
   ],
   "source": [
    "numbers"
   ]
  },
  {
   "cell_type": "markdown",
   "id": "f4daa7c9-5bbd-44ea-95e2-27c0f2d9ff11",
   "metadata": {},
   "source": [
    "#### delete by index"
   ]
  },
  {
   "cell_type": "code",
   "execution_count": 82,
   "id": "512615ff-1ed4-4c5d-b516-40227e809c36",
   "metadata": {
    "tags": []
   },
   "outputs": [
    {
     "data": {
      "text/plain": [
       "4"
      ]
     },
     "execution_count": 82,
     "metadata": {},
     "output_type": "execute_result"
    }
   ],
   "source": [
    "numbers.pop(2)"
   ]
  },
  {
   "cell_type": "code",
   "execution_count": 83,
   "id": "6b0a02e1-49e0-46f9-b3ce-c001ddaf3177",
   "metadata": {
    "tags": []
   },
   "outputs": [
    {
     "data": {
      "text/plain": [
       "[2, 3, 5, 6, 7, 8, 9]"
      ]
     },
     "execution_count": 83,
     "metadata": {},
     "output_type": "execute_result"
    }
   ],
   "source": [
    "numbers"
   ]
  },
  {
   "cell_type": "markdown",
   "id": "3157c7f1-51ad-4630-92e9-fa8563392c64",
   "metadata": {
    "tags": []
   },
   "source": [
    "## Turple\n",
    "\n"
   ]
  },
  {
   "cell_type": "code",
   "execution_count": 84,
   "id": "0dbf7eff-68f4-471f-94af-871ff130f321",
   "metadata": {
    "tags": []
   },
   "outputs": [
    {
     "data": {
      "text/plain": [
       "(1, 2, 3, 4, 5, 1000, 6, 7, 8, 9, 10)"
      ]
     },
     "execution_count": 84,
     "metadata": {},
     "output_type": "execute_result"
    }
   ],
   "source": [
    "numbers = (1,2,3,4,5, 1000,6,7,8,9,10)\n",
    "numbers"
   ]
  },
  {
   "cell_type": "code",
   "execution_count": 85,
   "id": "6c223dd9-de5c-42d4-8f78-c121b358dac5",
   "metadata": {
    "tags": []
   },
   "outputs": [
    {
     "data": {
      "text/plain": [
       "tuple"
      ]
     },
     "execution_count": 85,
     "metadata": {},
     "output_type": "execute_result"
    }
   ],
   "source": [
    "type(numbers)"
   ]
  },
  {
   "cell_type": "markdown",
   "id": "4ca582e5-4eca-4d34-af2f-6f22bf6d76a1",
   "metadata": {},
   "source": [
    "### Read by index"
   ]
  },
  {
   "cell_type": "code",
   "execution_count": 86,
   "id": "b9f5888c-be8c-4da8-97f7-7b8d862a3ba7",
   "metadata": {
    "tags": []
   },
   "outputs": [
    {
     "data": {
      "text/plain": [
       "2"
      ]
     },
     "execution_count": 86,
     "metadata": {},
     "output_type": "execute_result"
    }
   ],
   "source": [
    "numbers[1]"
   ]
  },
  {
   "cell_type": "code",
   "execution_count": 87,
   "id": "e3e07a21-877f-4d04-8740-099cd50ad5ae",
   "metadata": {
    "tags": []
   },
   "outputs": [
    {
     "data": {
      "text/plain": [
       "(1000, 6, 7, 8, 9)"
      ]
     },
     "execution_count": 87,
     "metadata": {},
     "output_type": "execute_result"
    }
   ],
   "source": [
    "numbers[5:10] # excludes 10th index"
   ]
  },
  {
   "cell_type": "code",
   "execution_count": 88,
   "id": "e54d66ee-0ac0-44b3-9525-5663b052ef20",
   "metadata": {
    "tags": []
   },
   "outputs": [
    {
     "data": {
      "text/plain": [
       "11"
      ]
     },
     "execution_count": 88,
     "metadata": {},
     "output_type": "execute_result"
    }
   ],
   "source": [
    "len(numbers)"
   ]
  },
  {
   "cell_type": "code",
   "execution_count": 89,
   "id": "9331fba9-0513-4b4f-91b0-0ef528729bc7",
   "metadata": {
    "tags": []
   },
   "outputs": [],
   "source": [
    "### Search index by value"
   ]
  },
  {
   "cell_type": "code",
   "execution_count": 90,
   "id": "8ae06e6e-54fb-4fa3-8cc0-f111ba15d879",
   "metadata": {
    "tags": []
   },
   "outputs": [
    {
     "data": {
      "text/plain": [
       "5"
      ]
     },
     "execution_count": 90,
     "metadata": {},
     "output_type": "execute_result"
    }
   ],
   "source": [
    "numbers.index(1000)"
   ]
  },
  {
   "cell_type": "code",
   "execution_count": 91,
   "id": "d8d88e8d-d0ae-492c-b13e-4facc912a7c6",
   "metadata": {
    "tags": []
   },
   "outputs": [
    {
     "ename": "ValueError",
     "evalue": "tuple.index(x): x not in tuple",
     "output_type": "error",
     "traceback": [
      "\u001b[1;31m---------------------------------------------------------------------------\u001b[0m",
      "\u001b[1;31mValueError\u001b[0m                                Traceback (most recent call last)",
      "Cell \u001b[1;32mIn[91], line 1\u001b[0m\n\u001b[1;32m----> 1\u001b[0m numbers\u001b[38;5;241m.\u001b[39mindex(\u001b[38;5;241m100\u001b[39m)\n",
      "\u001b[1;31mValueError\u001b[0m: tuple.index(x): x not in tuple"
     ]
    }
   ],
   "source": [
    "numbers.index(100)"
   ]
  },
  {
   "cell_type": "markdown",
   "id": "8c4fb2c7-8311-42c4-b81b-d7fe8b7c4ada",
   "metadata": {
    "tags": []
   },
   "source": [
    "## Dictionary"
   ]
  },
  {
   "cell_type": "code",
   "execution_count": 127,
   "id": "1d1c3f59-21f7-4b52-9f26-3f1f55b5f5be",
   "metadata": {
    "tags": []
   },
   "outputs": [
    {
     "data": {
      "text/plain": [
       "{'id card': 1}"
      ]
     },
     "execution_count": 127,
     "metadata": {},
     "output_type": "execute_result"
    }
   ],
   "source": [
    "Student = {\"id card\": 1}\n",
    "Student"
   ]
  },
  {
   "cell_type": "code",
   "execution_count": 130,
   "id": "37a69e2e-32cb-427f-bb6b-6d76adea219c",
   "metadata": {
    "tags": []
   },
   "outputs": [
    {
     "data": {
      "text/plain": [
       "dict"
      ]
     },
     "execution_count": 130,
     "metadata": {},
     "output_type": "execute_result"
    }
   ],
   "source": [
    "type(Student)"
   ]
  },
  {
   "cell_type": "code",
   "execution_count": 128,
   "id": "b1979ff4-4262-4a64-b650-fbb8bedb0c32",
   "metadata": {
    "tags": []
   },
   "outputs": [
    {
     "ename": "SyntaxError",
     "evalue": "invalid syntax. Perhaps you forgot a comma? (2203156463.py, line 1)",
     "output_type": "error",
     "traceback": [
      "\u001b[1;36m  Cell \u001b[1;32mIn[128], line 1\u001b[1;36m\u001b[0m\n\u001b[1;33m    Student = dict(id card = 1)\u001b[0m\n\u001b[1;37m                   ^\u001b[0m\n\u001b[1;31mSyntaxError\u001b[0m\u001b[1;31m:\u001b[0m invalid syntax. Perhaps you forgot a comma?\n"
     ]
    }
   ],
   "source": [
    "Student = dict(id card = 1)\n",
    "Student"
   ]
  },
  {
   "cell_type": "code",
   "execution_count": 129,
   "id": "329b75ec-32f3-422d-8aac-9cb9280ea8a6",
   "metadata": {
    "tags": []
   },
   "outputs": [
    {
     "data": {
      "text/plain": [
       "{'id_card': 1}"
      ]
     },
     "execution_count": 129,
     "metadata": {},
     "output_type": "execute_result"
    }
   ],
   "source": [
    "Student = dict(id_card = 1)\n",
    "Student"
   ]
  },
  {
   "cell_type": "code",
   "execution_count": 117,
   "id": "421e29ce-51e6-4f64-99ea-6e00dc7c0d30",
   "metadata": {
    "tags": []
   },
   "outputs": [],
   "source": [
    "person = { 'name': 'John', \"age\": 20 }"
   ]
  },
  {
   "cell_type": "code",
   "execution_count": 126,
   "id": "483e3ac4-ae15-41bb-83e0-f38a1b7b3711",
   "metadata": {
    "tags": []
   },
   "outputs": [
    {
     "data": {
      "text/plain": [
       "{'name': 'John', 'age': 20}"
      ]
     },
     "execution_count": 126,
     "metadata": {},
     "output_type": "execute_result"
    }
   ],
   "source": [
    "person = dict(name='John', age=20)\n",
    "person"
   ]
  },
  {
   "cell_type": "markdown",
   "id": "84684c25-a635-4a8b-8d5f-c1d45380c0c7",
   "metadata": {},
   "source": [
    "### Access by key (named index)"
   ]
  },
  {
   "cell_type": "code",
   "execution_count": 98,
   "id": "1dba6d44-90b7-474b-a308-4b75a94358c8",
   "metadata": {
    "tags": []
   },
   "outputs": [
    {
     "data": {
      "text/plain": [
       "'John'"
      ]
     },
     "execution_count": 98,
     "metadata": {},
     "output_type": "execute_result"
    }
   ],
   "source": [
    "person['name']"
   ]
  },
  {
   "cell_type": "code",
   "execution_count": 99,
   "id": "b6f2003f-eed8-43e2-88bf-4f5ed582ff6c",
   "metadata": {
    "tags": []
   },
   "outputs": [
    {
     "data": {
      "text/plain": [
       "'John'"
      ]
     },
     "execution_count": 99,
     "metadata": {},
     "output_type": "execute_result"
    }
   ],
   "source": [
    "person[\"name\"]"
   ]
  },
  {
   "cell_type": "code",
   "execution_count": 116,
   "id": "997f9ed5-0396-4845-979d-5ddf29269472",
   "metadata": {
    "tags": []
   },
   "outputs": [
    {
     "data": {
      "text/plain": [
       "(20, 20)"
      ]
     },
     "execution_count": 116,
     "metadata": {},
     "output_type": "execute_result"
    }
   ],
   "source": [
    "person.get(\"age\"), person[\"age\"]"
   ]
  },
  {
   "cell_type": "code",
   "execution_count": 97,
   "id": "5dc88721-1cd0-4e37-aa5a-84fd1010e678",
   "metadata": {
    "tags": []
   },
   "outputs": [
    {
     "ename": "KeyError",
     "evalue": "0",
     "output_type": "error",
     "traceback": [
      "\u001b[1;31m---------------------------------------------------------------------------\u001b[0m",
      "\u001b[1;31mKeyError\u001b[0m                                  Traceback (most recent call last)",
      "Cell \u001b[1;32mIn[97], line 1\u001b[0m\n\u001b[1;32m----> 1\u001b[0m person[\u001b[38;5;241m0\u001b[39m]\n",
      "\u001b[1;31mKeyError\u001b[0m: 0"
     ]
    }
   ],
   "source": [
    "person[0]"
   ]
  },
  {
   "cell_type": "markdown",
   "id": "9e09fa74-ae98-4fc9-9787-4517f42986cc",
   "metadata": {},
   "source": [
    "### Update by key"
   ]
  },
  {
   "cell_type": "code",
   "execution_count": 100,
   "id": "fa084e89-3500-4750-8cca-61f7565ce345",
   "metadata": {
    "tags": []
   },
   "outputs": [
    {
     "data": {
      "text/plain": [
       "{'name': 'John', 'age': 20}"
      ]
     },
     "execution_count": 100,
     "metadata": {},
     "output_type": "execute_result"
    }
   ],
   "source": [
    "person = { 'name': 'John', \"age\": 20 }\n",
    "person"
   ]
  },
  {
   "cell_type": "code",
   "execution_count": 101,
   "id": "d3005fcb-2113-4077-8e06-d44032d6ac29",
   "metadata": {
    "tags": []
   },
   "outputs": [
    {
     "data": {
      "text/plain": [
       "{'name': 'vengleab', 'age': 20}"
      ]
     },
     "execution_count": 101,
     "metadata": {},
     "output_type": "execute_result"
    }
   ],
   "source": [
    "person[\"name\"] = 'vengleab'\n",
    "person"
   ]
  },
  {
   "cell_type": "markdown",
   "id": "515452ef-3c34-4e75-a59d-5251e990d2eb",
   "metadata": {},
   "source": [
    "### Add/insert new key"
   ]
  },
  {
   "cell_type": "code",
   "execution_count": 103,
   "id": "7abd1e49-c070-4f0a-9276-20cf9436b2d6",
   "metadata": {
    "tags": []
   },
   "outputs": [
    {
     "data": {
      "text/plain": [
       "{'name': 'John', 'age': 20}"
      ]
     },
     "execution_count": 103,
     "metadata": {},
     "output_type": "execute_result"
    }
   ],
   "source": [
    "person = { 'name': 'John', \"age\": 20 }\n",
    "person"
   ]
  },
  {
   "cell_type": "code",
   "execution_count": 104,
   "id": "c6621e55-bcab-4a30-b5da-c606613753ce",
   "metadata": {
    "tags": []
   },
   "outputs": [
    {
     "data": {
      "text/plain": [
       "{'name': 'John', 'age': 20, 'gender': 'M'}"
      ]
     },
     "execution_count": 104,
     "metadata": {},
     "output_type": "execute_result"
    }
   ],
   "source": [
    "person[\"gender\"] = 'M'\n",
    "person"
   ]
  },
  {
   "cell_type": "markdown",
   "id": "7570b71f-ff5e-4342-af20-c3f544fe12a4",
   "metadata": {},
   "source": [
    "### Delete key"
   ]
  },
  {
   "cell_type": "code",
   "execution_count": 106,
   "id": "c03f3547-2f80-480d-ab83-1df07574248b",
   "metadata": {
    "tags": []
   },
   "outputs": [
    {
     "data": {
      "text/plain": [
       "{'name': 'John', 'age': 20}"
      ]
     },
     "execution_count": 106,
     "metadata": {},
     "output_type": "execute_result"
    }
   ],
   "source": [
    "person = { 'name': 'John', \"age\": 20 }\n",
    "person"
   ]
  },
  {
   "cell_type": "code",
   "execution_count": 108,
   "id": "6f84878e-c42e-49fa-b344-6b276801cfbd",
   "metadata": {
    "tags": []
   },
   "outputs": [
    {
     "data": {
      "text/plain": [
       "{'name': 'John'}"
      ]
     },
     "execution_count": 108,
     "metadata": {},
     "output_type": "execute_result"
    }
   ],
   "source": [
    "del person[\"age\"]\n",
    "person"
   ]
  },
  {
   "cell_type": "markdown",
   "id": "85932ec6-865b-4d74-a356-10979b90d554",
   "metadata": {
    "tags": []
   },
   "source": [
    "### Build-in"
   ]
  },
  {
   "cell_type": "code",
   "execution_count": 110,
   "id": "715d02b8-b82a-4a18-9a16-14d4252df96e",
   "metadata": {
    "tags": []
   },
   "outputs": [
    {
     "data": {
      "text/plain": [
       "{'name': 'John', 'age': 20}"
      ]
     },
     "execution_count": 110,
     "metadata": {},
     "output_type": "execute_result"
    }
   ],
   "source": [
    "person = { 'name': 'John', \"age\": 20 }\n",
    "person"
   ]
  },
  {
   "cell_type": "code",
   "execution_count": 111,
   "id": "c3c14a79-4f24-4d09-8f21-84a89bc6182d",
   "metadata": {
    "tags": []
   },
   "outputs": [
    {
     "data": {
      "text/plain": [
       "dict_keys(['name', 'age'])"
      ]
     },
     "execution_count": 111,
     "metadata": {},
     "output_type": "execute_result"
    }
   ],
   "source": [
    "person.keys()"
   ]
  },
  {
   "cell_type": "code",
   "execution_count": 113,
   "id": "3299f559-ed73-471a-af7a-eaed90fd761d",
   "metadata": {
    "tags": []
   },
   "outputs": [
    {
     "data": {
      "text/plain": [
       "dict_values(['John', 20])"
      ]
     },
     "execution_count": 113,
     "metadata": {},
     "output_type": "execute_result"
    }
   ],
   "source": [
    "person.values()"
   ]
  },
  {
   "cell_type": "code",
   "execution_count": null,
   "id": "87756e30-7bc3-4d10-b74b-f32612eef02e",
   "metadata": {},
   "outputs": [],
   "source": []
  }
 ],
 "metadata": {
  "kernelspec": {
   "display_name": "Python 3 (ipykernel)",
   "language": "python",
   "name": "python3"
  },
  "language_info": {
   "codemirror_mode": {
    "name": "ipython",
    "version": 3
   },
   "file_extension": ".py",
   "mimetype": "text/x-python",
   "name": "python",
   "nbconvert_exporter": "python",
   "pygments_lexer": "ipython3",
   "version": "3.11.3"
  },
  "toc-autonumbering": true
 },
 "nbformat": 4,
 "nbformat_minor": 5
}
